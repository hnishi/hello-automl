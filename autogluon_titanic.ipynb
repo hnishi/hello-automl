{
  "nbformat": 4,
  "nbformat_minor": 0,
  "metadata": {
    "kernelspec": {
      "display_name": "Python 3",
      "language": "python",
      "name": "python3"
    },
    "language_info": {
      "codemirror_mode": {
        "name": "ipython",
        "version": 3
      },
      "file_extension": ".py",
      "mimetype": "text/x-python",
      "name": "python",
      "nbconvert_exporter": "python",
      "pygments_lexer": "ipython3",
      "version": "3.8.11"
    },
    "colab": {
      "name": "autogluon-titanic.ipynb",
      "provenance": [],
      "collapsed_sections": [],
      "include_colab_link": true
    }
  },
  "cells": [
    {
      "cell_type": "markdown",
      "metadata": {
        "id": "view-in-github",
        "colab_type": "text"
      },
      "source": [
        "<a href=\"https://colab.research.google.com/github/hnishi/hello-automl/blob/main/autogluon_titanic.ipynb\" target=\"_parent\"><img src=\"https://colab.research.google.com/assets/colab-badge.svg\" alt=\"Open In Colab\"/></a>"
      ]
    },
    {
      "cell_type": "code",
      "metadata": {
        "id": "c38j08cslrd_",
        "colab": {
          "base_uri": "https://localhost:8080/"
        },
        "outputId": "c28b7ff6-93a0-4a86-919a-7a30f9c772b4"
      },
      "source": [
        "# https://auto.gluon.ai/stable/install.html\n",
        "!pip install -q autogluon.tabular[all]"
      ],
      "execution_count": null,
      "outputs": [
        {
          "output_type": "stream",
          "text": [
            "\u001b[K     |████████████████████████████████| 250 kB 5.3 MB/s \n",
            "\u001b[K     |████████████████████████████████| 22.3 MB 1.4 MB/s \n",
            "\u001b[K     |████████████████████████████████| 296 kB 68.0 MB/s \n",
            "\u001b[K     |████████████████████████████████| 334 kB 65.5 MB/s \n",
            "\u001b[K     |████████████████████████████████| 48 kB 4.4 MB/s \n",
            "\u001b[K     |████████████████████████████████| 27.4 MB 97 kB/s \n",
            "\u001b[K     |████████████████████████████████| 67.3 MB 4.0 kB/s \n",
            "\u001b[K     |████████████████████████████████| 157.5 MB 52 kB/s \n",
            "\u001b[K     |████████████████████████████████| 2.0 MB 49.1 MB/s \n",
            "\u001b[K     |████████████████████████████████| 188 kB 37.5 MB/s \n",
            "\u001b[K     |████████████████████████████████| 81 kB 7.9 MB/s \n",
            "\u001b[K     |████████████████████████████████| 769 kB 41.1 MB/s \n",
            "\u001b[K     |████████████████████████████████| 102 kB 63.5 MB/s \n",
            "\u001b[K     |████████████████████████████████| 206 kB 63.3 MB/s \n",
            "\u001b[K     |████████████████████████████████| 950 kB 61.8 MB/s \n",
            "\u001b[?25h  Installing build dependencies ... \u001b[?25l\u001b[?25hdone\n",
            "  Getting requirements to build wheel ... \u001b[?25l\u001b[?25hdone\n",
            "    Preparing wheel metadata ... \u001b[?25l\u001b[?25hdone\n",
            "\u001b[K     |████████████████████████████████| 987 kB 62.7 MB/s \n",
            "\u001b[K     |████████████████████████████████| 118 kB 69.2 MB/s \n",
            "\u001b[K     |████████████████████████████████| 54 kB 2.4 MB/s \n",
            "\u001b[K     |████████████████████████████████| 961 kB 31.5 MB/s \n",
            "\u001b[K     |████████████████████████████████| 63 kB 1.7 MB/s \n",
            "\u001b[K     |████████████████████████████████| 3.2 MB 35.0 MB/s \n",
            "\u001b[K     |████████████████████████████████| 7.8 MB 60.5 MB/s \n",
            "\u001b[K     |████████████████████████████████| 79 kB 6.6 MB/s \n",
            "\u001b[K     |████████████████████████████████| 127 kB 72.5 MB/s \n",
            "\u001b[?25h  Building wheel for ConfigSpace (PEP 517) ... \u001b[?25l\u001b[?25hdone\n",
            "  Building wheel for boto3 (setup.py) ... \u001b[?25l\u001b[?25hdone\n",
            "\u001b[31mERROR: pip's dependency resolver does not currently take into account all the packages that are installed. This behaviour is the source of the following dependency conflicts.\n",
            "multiprocess 0.70.12.2 requires dill>=0.3.4, but you have dill 0.3.3 which is incompatible.\n",
            "datascience 0.10.6 requires folium==0.2.1, but you have folium 0.8.3 which is incompatible.\n",
            "albumentations 0.1.12 requires imgaug<0.2.7,>=0.2.5, but you have imgaug 0.2.9 which is incompatible.\u001b[0m\n"
          ],
          "name": "stdout"
        }
      ]
    },
    {
      "cell_type": "code",
      "metadata": {
        "id": "NPFkWzPSyx9Q"
      },
      "source": [
        "%matplotlib inline\n",
        "\n",
        "import time\n",
        "\n",
        "import matplotlib.pyplot as plt\n",
        "import numpy as np\n",
        "import pandas as pd\n",
        "import sklearn\n",
        "import sklearn.ensemble\n",
        "import sklearn.model_selection\n",
        "import sklearn.datasets\n",
        "import sklearn.metrics\n",
        "from sklearn.preprocessing import LabelEncoder\n",
        "from sklearn.inspection import plot_partial_dependence, permutation_importance\n",
        "\n",
        "# https://auto.gluon.ai/stable/index.html\n",
        "import autogluon.tabular\n",
        "from autogluon.tabular import TabularDataset, TabularPredictor"
      ],
      "execution_count": null,
      "outputs": []
    },
    {
      "cell_type": "code",
      "metadata": {
        "colab": {
          "base_uri": "https://localhost:8080/"
        },
        "id": "SSV-oQXojyN8",
        "outputId": "696f290b-ca2e-4825-f8a1-5e312d5548e7"
      },
      "source": [
        "!pip show autogluon.tabular"
      ],
      "execution_count": null,
      "outputs": [
        {
          "output_type": "stream",
          "text": [
            "Name: autogluon.tabular\n",
            "Version: 0.2.0\n",
            "Summary: AutoML for Text, Image, and Tabular Data\n",
            "Home-page: https://github.com/awslabs/autogluon\n",
            "Author: AutoGluon Community\n",
            "Author-email: None\n",
            "License: Apache-2.0\n",
            "Location: /usr/local/lib/python3.7/dist-packages\n",
            "Requires: pandas, autogluon.core, networkx, numpy, psutil, autogluon.features, scipy, pytest, scikit-learn\n",
            "Required-by: \n"
          ],
          "name": "stdout"
        }
      ]
    },
    {
      "cell_type": "markdown",
      "metadata": {
        "id": "loda_oxuyx9T"
      },
      "source": [
        "## Data Loading and Preprocess\n",
        "\n"
      ]
    },
    {
      "cell_type": "code",
      "metadata": {
        "id": "GNe5m4HSoyPt"
      },
      "source": [
        "# Using Titanic dataset https://www.openml.org/d/40945.\n",
        "# This example will use the command fetch_openml, which will\n",
        "# download a properly formatted dataframe if you use as_frame=True.\n",
        "X, y = sklearn.datasets.fetch_openml(data_id=40945, return_X_y=True, as_frame=True)"
      ],
      "execution_count": null,
      "outputs": []
    },
    {
      "cell_type": "code",
      "metadata": {
        "id": "OpfuhhJtjk0s"
      },
      "source": [
        "# remove unused columns\n",
        "X.drop(['name', 'cabin', 'ticket', 'body', 'home.dest', 'boat'], inplace=True, axis=1)\n",
        "\n",
        "X[\"pclass\"] = X[\"pclass\"].astype(\"int\")\n",
        "X[\"sibsp\"] = X[\"sibsp\"].astype(\"int\")\n",
        "X[\"parch\"] = X[\"parch\"].astype(\"int\")        \n",
        "X[\"age\"] = X[\"age\"].astype(\"float\")        \n",
        "X[\"fare\"] = X[\"fare\"].astype(\"float\")        \n",
        "X[\"embarked\"] = X[\"embarked\"].astype(\"category\")\n",
        "X[\"sex\"] = X[\"sex\"].astype(\"category\")\n",
        "y = y.astype(\"category\")"
      ],
      "execution_count": null,
      "outputs": []
    },
    {
      "cell_type": "code",
      "metadata": {
        "colab": {
          "base_uri": "https://localhost:8080/"
        },
        "id": "8v6Kf5UCpQ47",
        "outputId": "306e6793-bbea-43b7-c10e-85d691c40e42"
      },
      "source": [
        "# check missing values\n",
        "for column in X.columns:\n",
        "    print(f\"{column}: {str(sum(X[column].isnull()))} missing values\")"
      ],
      "execution_count": null,
      "outputs": [
        {
          "output_type": "stream",
          "text": [
            "pclass: 0 missing values\n",
            "sex: 0 missing values\n",
            "age: 263 missing values\n",
            "sibsp: 0 missing values\n",
            "parch: 0 missing values\n",
            "fare: 1 missing values\n",
            "embarked: 2 missing values\n"
          ],
          "name": "stdout"
        }
      ]
    },
    {
      "cell_type": "code",
      "metadata": {
        "colab": {
          "base_uri": "https://localhost:8080/"
        },
        "id": "aerH8XJehbrH",
        "outputId": "0d585d84-17fb-492d-c201-2819b4028fc6"
      },
      "source": [
        "X.dtypes"
      ],
      "execution_count": null,
      "outputs": [
        {
          "output_type": "execute_result",
          "data": {
            "text/plain": [
              "pclass         int64\n",
              "sex         category\n",
              "age          float64\n",
              "sibsp          int64\n",
              "parch          int64\n",
              "fare         float64\n",
              "embarked    category\n",
              "dtype: object"
            ]
          },
          "metadata": {
            "tags": []
          },
          "execution_count": 7
        }
      ]
    },
    {
      "cell_type": "code",
      "metadata": {
        "id": "1y8Ve-YHep44"
      },
      "source": [
        "X_train, X_test, y_train, y_test = sklearn.model_selection.train_test_split(\n",
        "    X, y, test_size=0.3, random_state=1\n",
        ")"
      ],
      "execution_count": null,
      "outputs": []
    },
    {
      "cell_type": "markdown",
      "metadata": {
        "id": "ai1PZFl9RCpT"
      },
      "source": [
        "## Baseline"
      ]
    },
    {
      "cell_type": "code",
      "metadata": {
        "colab": {
          "base_uri": "https://localhost:8080/"
        },
        "id": "MLmPNs8rRFFO",
        "outputId": "c7a0c652-9ed4-4b08-b3f0-82a6e1fa4362"
      },
      "source": [
        "# Gender model\n",
        "# It will predict that all women survive and all men do not survive.\n",
        "print(\"Accuracy score\", sklearn.metrics.accuracy_score(y_test, X_test[\"sex\"].map(lambda x: '1' if x == \"female\" else '0')))"
      ],
      "execution_count": null,
      "outputs": [
        {
          "output_type": "stream",
          "text": [
            "Accuracy score 0.7888040712468194\n"
          ],
          "name": "stdout"
        }
      ]
    },
    {
      "cell_type": "markdown",
      "metadata": {
        "id": "g6ogT-7Pyx9T"
      },
      "source": [
        "## Build and Fit a Classifier\n",
        "\n"
      ]
    },
    {
      "cell_type": "code",
      "metadata": {
        "id": "9L-TcVA5k216"
      },
      "source": [
        "# prepare input data\n",
        "train = X_train.copy()\n",
        "train['survive'] = y_train\n",
        "\n",
        "test = X_test.copy()\n",
        "test[\"survive\"] = y_test"
      ],
      "execution_count": null,
      "outputs": []
    },
    {
      "cell_type": "code",
      "metadata": {
        "colab": {
          "base_uri": "https://localhost:8080/"
        },
        "id": "w0bh8QZOgZy7",
        "outputId": "ca23a3e5-bb4d-4bea-8dac-0466ee2c5834"
      },
      "source": [
        "%%time\n",
        "\n",
        "# https://auto.gluon.ai/dev/api/autogluon.task.html#module-0\n",
        "model = TabularPredictor(\n",
        "    label='survive',\n",
        "    problem_type='binary',\n",
        "    eval_metric='accuracy',  # 'accuracy' is default for binary/multiclass classification\n",
        ")\n",
        "# https://auto.gluon.ai/dev/api/autogluon.task.html#autogluon.tabular.TabularPredictor.fit\n",
        "model.fit(\n",
        "    train,\n",
        "    time_limit=120,  # in sec\n",
        "    tuning_data=None,  # Do not provide your evaluation test data here!\n",
        "    ag_args_fit={\"num_cpu\": 1}\n",
        ") "
      ],
      "execution_count": null,
      "outputs": [
        {
          "output_type": "stream",
          "text": [
            "No path specified. Models will be saved in: \"AutogluonModels/ag-20210806_144622/\"\n",
            "Beginning AutoGluon training ... Time limit = 120s\n",
            "AutoGluon will save models to \"AutogluonModels/ag-20210806_144622/\"\n",
            "AutoGluon Version:  0.2.0\n",
            "Train Data Rows:    916\n",
            "Train Data Columns: 7\n",
            "Preprocessing data ...\n",
            "NumExpr defaulting to 2 threads.\n",
            "Selected class <--> label mapping:  class 1 = 1, class 0 = 0\n",
            "\tNote: For your binary classification, AutoGluon arbitrarily selected which label-value represents positive (1) vs negative (0) class.\n",
            "\tTo explicitly set the positive_class, either rename classes to 1 and 0, or specify positive_class in Predictor init.\n",
            "Using Feature Generators to preprocess the data ...\n",
            "Fitting AutoMLPipelineFeatureGenerator...\n",
            "\tAvailable Memory:                    12745.89 MB\n",
            "\tTrain Data (Original)  Memory Usage: 0.04 MB (0.0% of available memory)\n",
            "\tInferring data type of each feature based on column values. Set feature_metadata_in to manually specify special dtypes of the features.\n",
            "\tStage 1 Generators:\n",
            "\t\tFitting AsTypeFeatureGenerator...\n",
            "\tStage 2 Generators:\n",
            "\t\tFitting FillNaFeatureGenerator...\n",
            "\tStage 3 Generators:\n",
            "\t\tFitting IdentityFeatureGenerator...\n",
            "\t\tFitting CategoryFeatureGenerator...\n",
            "\t\t\tFitting CategoryMemoryMinimizeFeatureGenerator...\n",
            "\tStage 4 Generators:\n",
            "\t\tFitting DropUniqueFeatureGenerator...\n",
            "\tTypes of features in original data (raw dtype, special dtypes):\n",
            "\t\t('category', []) : 2 | ['sex', 'embarked']\n",
            "\t\t('float', [])    : 2 | ['age', 'fare']\n",
            "\t\t('int', [])      : 3 | ['pclass', 'sibsp', 'parch']\n",
            "\tTypes of features in processed data (raw dtype, special dtypes):\n",
            "\t\t('category', []) : 2 | ['sex', 'embarked']\n",
            "\t\t('float', [])    : 2 | ['age', 'fare']\n",
            "\t\t('int', [])      : 3 | ['pclass', 'sibsp', 'parch']\n",
            "\t0.1s = Fit runtime\n",
            "\t7 features in original data used to generate 7 features in processed data.\n",
            "\tTrain Data (Processed) Memory Usage: 0.04 MB (0.0% of available memory)\n",
            "Data preprocessing and feature engineering runtime = 0.19s ...\n",
            "AutoGluon will gauge predictive performance using evaluation metric: 'accuracy'\n",
            "\tTo change this, specify the eval_metric argument of fit()\n",
            "Automatically generating train/validation split with holdout_frac=0.2, Train Rows: 732, Val Rows: 184\n",
            "Fitting model: KNeighborsUnif ... Training model for up to 119.81s of the 119.81s of remaining time.\n",
            "\t0.6793\t = Validation accuracy score\n",
            "\t0.01s\t = Training runtime\n",
            "\t0.11s\t = Validation runtime\n",
            "Fitting model: KNeighborsDist ... Training model for up to 119.69s of the 119.68s of remaining time.\n",
            "\t0.6467\t = Validation accuracy score\n",
            "\t0.01s\t = Training runtime\n",
            "\t0.11s\t = Validation runtime\n",
            "Fitting model: LightGBMXT ... Training model for up to 119.56s of the 119.56s of remaining time.\n",
            "\t0.8315\t = Validation accuracy score\n",
            "\t0.54s\t = Training runtime\n",
            "\t0.01s\t = Validation runtime\n",
            "Fitting model: LightGBM ... Training model for up to 118.99s of the 118.99s of remaining time.\n",
            "\t0.8478\t = Validation accuracy score\n",
            "\t0.24s\t = Training runtime\n",
            "\t0.01s\t = Validation runtime\n",
            "Fitting model: RandomForestGini ... Training model for up to 118.72s of the 118.72s of remaining time.\n",
            "\t0.788\t = Validation accuracy score\n",
            "\t0.75s\t = Training runtime\n",
            "\t0.11s\t = Validation runtime\n",
            "Fitting model: RandomForestEntr ... Training model for up to 117.81s of the 117.81s of remaining time.\n",
            "\t0.7989\t = Validation accuracy score\n",
            "\t0.85s\t = Training runtime\n",
            "\t0.11s\t = Validation runtime\n",
            "Fitting model: CatBoost ... Training model for up to 116.82s of the 116.82s of remaining time.\n",
            "\t0.8261\t = Validation accuracy score\n",
            "\t0.44s\t = Training runtime\n",
            "\t0.01s\t = Validation runtime\n",
            "Fitting model: ExtraTreesGini ... Training model for up to 116.36s of the 116.36s of remaining time.\n",
            "\t0.7663\t = Validation accuracy score\n",
            "\t0.77s\t = Training runtime\n",
            "\t0.11s\t = Validation runtime\n",
            "Fitting model: ExtraTreesEntr ... Training model for up to 115.44s of the 115.43s of remaining time.\n",
            "\t0.7717\t = Validation accuracy score\n",
            "\t0.76s\t = Training runtime\n",
            "\t0.11s\t = Validation runtime\n",
            "Fitting model: NeuralNetFastAI ... Training model for up to 114.53s of the 114.53s of remaining time.\n",
            "\t0.8043\t = Validation accuracy score\n",
            "\t6.27s\t = Training runtime\n",
            "\t0.04s\t = Validation runtime\n",
            "Fitting model: XGBoost ... Training model for up to 108.2s of the 108.19s of remaining time.\n",
            "\t0.8587\t = Validation accuracy score\n",
            "\t0.22s\t = Training runtime\n",
            "\t0.01s\t = Validation runtime\n",
            "Fitting model: NeuralNetMXNet ... Training model for up to 107.94s of the 107.94s of remaining time.\n",
            "\tWarning: Exception caused NeuralNetMXNet to fail during training (ImportError)... Skipping this model.\n",
            "\t\tUnable to import dependency mxnet. A quick tip is to install via `pip install mxnet --upgrade`, or `pip install mxnet_cu101 --upgrade`\n",
            "Fitting model: LightGBMLarge ... Training model for up to 107.93s of the 107.93s of remaining time.\n",
            "\t0.8261\t = Validation accuracy score\n",
            "\t0.42s\t = Training runtime\n",
            "\t0.01s\t = Validation runtime\n",
            "Fitting model: WeightedEnsemble_L2 ... Training model for up to 119.81s of the 106.61s of remaining time.\n",
            "\t0.8641\t = Validation accuracy score\n",
            "\t0.47s\t = Training runtime\n",
            "\t0.0s\t = Validation runtime\n",
            "AutoGluon training complete, total runtime = 13.95s ...\n",
            "TabularPredictor saved. To load, use: predictor = TabularPredictor.load(\"AutogluonModels/ag-20210806_144622/\")\n"
          ],
          "name": "stderr"
        },
        {
          "output_type": "stream",
          "text": [
            "CPU times: user 9.76 s, sys: 1.09 s, total: 10.8 s\n",
            "Wall time: 14 s\n"
          ],
          "name": "stdout"
        }
      ]
    },
    {
      "cell_type": "code",
      "metadata": {
        "colab": {
          "base_uri": "https://localhost:8080/"
        },
        "id": "bOztOUUFj5Tu",
        "outputId": "144ec225-3583-4be4-92b4-5817ea04742a"
      },
      "source": [
        "y_train_pred = model.predict(X_train)\n",
        "print(\"Accuracy score\", sklearn.metrics.accuracy_score(y_train, y_train_pred))"
      ],
      "execution_count": null,
      "outputs": [
        {
          "output_type": "stream",
          "text": [
            "Accuracy score 0.8831877729257642\n"
          ],
          "name": "stdout"
        }
      ]
    },
    {
      "cell_type": "code",
      "metadata": {
        "id": "5bj9M0wMC6aa",
        "colab": {
          "base_uri": "https://localhost:8080/"
        },
        "outputId": "ff00b365-d4eb-4965-be53-3f05191ad558"
      },
      "source": [
        "# the model name of the best model by validation score\n",
        "print(model.get_model_best())"
      ],
      "execution_count": null,
      "outputs": [
        {
          "output_type": "stream",
          "text": [
            "WeightedEnsemble_L2\n"
          ],
          "name": "stdout"
        }
      ]
    },
    {
      "cell_type": "code",
      "metadata": {
        "id": "2s6p2AInCn_S",
        "colab": {
          "base_uri": "https://localhost:8080/",
          "height": 470
        },
        "outputId": "457fde3f-5706-4e22-8d5e-bbbc2cb989eb"
      },
      "source": [
        "# evaluate all of the models AutoGluon has previously trained on our test data\n",
        "model.leaderboard(test, silent=True)"
      ],
      "execution_count": null,
      "outputs": [
        {
          "output_type": "execute_result",
          "data": {
            "text/html": [
              "<div>\n",
              "<style scoped>\n",
              "    .dataframe tbody tr th:only-of-type {\n",
              "        vertical-align: middle;\n",
              "    }\n",
              "\n",
              "    .dataframe tbody tr th {\n",
              "        vertical-align: top;\n",
              "    }\n",
              "\n",
              "    .dataframe thead th {\n",
              "        text-align: right;\n",
              "    }\n",
              "</style>\n",
              "<table border=\"1\" class=\"dataframe\">\n",
              "  <thead>\n",
              "    <tr style=\"text-align: right;\">\n",
              "      <th></th>\n",
              "      <th>model</th>\n",
              "      <th>score_test</th>\n",
              "      <th>score_val</th>\n",
              "      <th>pred_time_test</th>\n",
              "      <th>pred_time_val</th>\n",
              "      <th>fit_time</th>\n",
              "      <th>pred_time_test_marginal</th>\n",
              "      <th>pred_time_val_marginal</th>\n",
              "      <th>fit_time_marginal</th>\n",
              "      <th>stack_level</th>\n",
              "      <th>can_infer</th>\n",
              "      <th>fit_order</th>\n",
              "    </tr>\n",
              "  </thead>\n",
              "  <tbody>\n",
              "    <tr>\n",
              "      <th>0</th>\n",
              "      <td>WeightedEnsemble_L2</td>\n",
              "      <td>0.806616</td>\n",
              "      <td>0.864130</td>\n",
              "      <td>0.292077</td>\n",
              "      <td>0.250349</td>\n",
              "      <td>2.104567</td>\n",
              "      <td>0.006339</td>\n",
              "      <td>0.002169</td>\n",
              "      <td>0.471375</td>\n",
              "      <td>2</td>\n",
              "      <td>True</td>\n",
              "      <td>13</td>\n",
              "    </tr>\n",
              "    <tr>\n",
              "      <th>1</th>\n",
              "      <td>LightGBM</td>\n",
              "      <td>0.793893</td>\n",
              "      <td>0.847826</td>\n",
              "      <td>0.011366</td>\n",
              "      <td>0.010176</td>\n",
              "      <td>0.242149</td>\n",
              "      <td>0.011366</td>\n",
              "      <td>0.010176</td>\n",
              "      <td>0.242149</td>\n",
              "      <td>1</td>\n",
              "      <td>True</td>\n",
              "      <td>4</td>\n",
              "    </tr>\n",
              "    <tr>\n",
              "      <th>2</th>\n",
              "      <td>XGBoost</td>\n",
              "      <td>0.788804</td>\n",
              "      <td>0.858696</td>\n",
              "      <td>0.044463</td>\n",
              "      <td>0.007670</td>\n",
              "      <td>0.217703</td>\n",
              "      <td>0.044463</td>\n",
              "      <td>0.007670</td>\n",
              "      <td>0.217703</td>\n",
              "      <td>1</td>\n",
              "      <td>True</td>\n",
              "      <td>11</td>\n",
              "    </tr>\n",
              "    <tr>\n",
              "      <th>3</th>\n",
              "      <td>ExtraTreesGini</td>\n",
              "      <td>0.783715</td>\n",
              "      <td>0.766304</td>\n",
              "      <td>0.226202</td>\n",
              "      <td>0.108245</td>\n",
              "      <td>0.773222</td>\n",
              "      <td>0.226202</td>\n",
              "      <td>0.108245</td>\n",
              "      <td>0.773222</td>\n",
              "      <td>1</td>\n",
              "      <td>True</td>\n",
              "      <td>8</td>\n",
              "    </tr>\n",
              "    <tr>\n",
              "      <th>4</th>\n",
              "      <td>ExtraTreesEntr</td>\n",
              "      <td>0.783715</td>\n",
              "      <td>0.771739</td>\n",
              "      <td>0.230779</td>\n",
              "      <td>0.107245</td>\n",
              "      <td>0.759059</td>\n",
              "      <td>0.230779</td>\n",
              "      <td>0.107245</td>\n",
              "      <td>0.759059</td>\n",
              "      <td>1</td>\n",
              "      <td>True</td>\n",
              "      <td>9</td>\n",
              "    </tr>\n",
              "    <tr>\n",
              "      <th>5</th>\n",
              "      <td>LightGBMLarge</td>\n",
              "      <td>0.781170</td>\n",
              "      <td>0.826087</td>\n",
              "      <td>0.012100</td>\n",
              "      <td>0.009993</td>\n",
              "      <td>0.418242</td>\n",
              "      <td>0.012100</td>\n",
              "      <td>0.009993</td>\n",
              "      <td>0.418242</td>\n",
              "      <td>1</td>\n",
              "      <td>True</td>\n",
              "      <td>12</td>\n",
              "    </tr>\n",
              "    <tr>\n",
              "      <th>6</th>\n",
              "      <td>CatBoost</td>\n",
              "      <td>0.778626</td>\n",
              "      <td>0.826087</td>\n",
              "      <td>0.008013</td>\n",
              "      <td>0.005006</td>\n",
              "      <td>0.439785</td>\n",
              "      <td>0.008013</td>\n",
              "      <td>0.005006</td>\n",
              "      <td>0.439785</td>\n",
              "      <td>1</td>\n",
              "      <td>True</td>\n",
              "      <td>7</td>\n",
              "    </tr>\n",
              "    <tr>\n",
              "      <th>7</th>\n",
              "      <td>LightGBMXT</td>\n",
              "      <td>0.776081</td>\n",
              "      <td>0.831522</td>\n",
              "      <td>0.009614</td>\n",
              "      <td>0.009683</td>\n",
              "      <td>0.543886</td>\n",
              "      <td>0.009614</td>\n",
              "      <td>0.009683</td>\n",
              "      <td>0.543886</td>\n",
              "      <td>1</td>\n",
              "      <td>True</td>\n",
              "      <td>3</td>\n",
              "    </tr>\n",
              "    <tr>\n",
              "      <th>8</th>\n",
              "      <td>RandomForestEntr</td>\n",
              "      <td>0.763359</td>\n",
              "      <td>0.798913</td>\n",
              "      <td>0.223315</td>\n",
              "      <td>0.107516</td>\n",
              "      <td>0.847117</td>\n",
              "      <td>0.223315</td>\n",
              "      <td>0.107516</td>\n",
              "      <td>0.847117</td>\n",
              "      <td>1</td>\n",
              "      <td>True</td>\n",
              "      <td>6</td>\n",
              "    </tr>\n",
              "    <tr>\n",
              "      <th>9</th>\n",
              "      <td>RandomForestGini</td>\n",
              "      <td>0.755725</td>\n",
              "      <td>0.788043</td>\n",
              "      <td>0.120620</td>\n",
              "      <td>0.108225</td>\n",
              "      <td>0.750338</td>\n",
              "      <td>0.120620</td>\n",
              "      <td>0.108225</td>\n",
              "      <td>0.750338</td>\n",
              "      <td>1</td>\n",
              "      <td>True</td>\n",
              "      <td>5</td>\n",
              "    </tr>\n",
              "    <tr>\n",
              "      <th>10</th>\n",
              "      <td>NeuralNetFastAI</td>\n",
              "      <td>0.750636</td>\n",
              "      <td>0.804348</td>\n",
              "      <td>0.035330</td>\n",
              "      <td>0.038119</td>\n",
              "      <td>6.271675</td>\n",
              "      <td>0.035330</td>\n",
              "      <td>0.038119</td>\n",
              "      <td>6.271675</td>\n",
              "      <td>1</td>\n",
              "      <td>True</td>\n",
              "      <td>10</td>\n",
              "    </tr>\n",
              "    <tr>\n",
              "      <th>11</th>\n",
              "      <td>KNeighborsDist</td>\n",
              "      <td>0.623410</td>\n",
              "      <td>0.646739</td>\n",
              "      <td>0.107235</td>\n",
              "      <td>0.108865</td>\n",
              "      <td>0.005256</td>\n",
              "      <td>0.107235</td>\n",
              "      <td>0.108865</td>\n",
              "      <td>0.005256</td>\n",
              "      <td>1</td>\n",
              "      <td>True</td>\n",
              "      <td>2</td>\n",
              "    </tr>\n",
              "    <tr>\n",
              "      <th>12</th>\n",
              "      <td>KNeighborsUnif</td>\n",
              "      <td>0.618321</td>\n",
              "      <td>0.679348</td>\n",
              "      <td>0.104314</td>\n",
              "      <td>0.106963</td>\n",
              "      <td>0.008320</td>\n",
              "      <td>0.104314</td>\n",
              "      <td>0.106963</td>\n",
              "      <td>0.008320</td>\n",
              "      <td>1</td>\n",
              "      <td>True</td>\n",
              "      <td>1</td>\n",
              "    </tr>\n",
              "  </tbody>\n",
              "</table>\n",
              "</div>"
            ],
            "text/plain": [
              "                  model  score_test  ...  can_infer  fit_order\n",
              "0   WeightedEnsemble_L2    0.806616  ...       True         13\n",
              "1              LightGBM    0.793893  ...       True          4\n",
              "2               XGBoost    0.788804  ...       True         11\n",
              "3        ExtraTreesGini    0.783715  ...       True          8\n",
              "4        ExtraTreesEntr    0.783715  ...       True          9\n",
              "5         LightGBMLarge    0.781170  ...       True         12\n",
              "6              CatBoost    0.778626  ...       True          7\n",
              "7            LightGBMXT    0.776081  ...       True          3\n",
              "8      RandomForestEntr    0.763359  ...       True          6\n",
              "9      RandomForestGini    0.755725  ...       True          5\n",
              "10      NeuralNetFastAI    0.750636  ...       True         10\n",
              "11       KNeighborsDist    0.623410  ...       True          2\n",
              "12       KNeighborsUnif    0.618321  ...       True          1\n",
              "\n",
              "[13 rows x 12 columns]"
            ]
          },
          "metadata": {
            "tags": []
          },
          "execution_count": 15
        }
      ]
    },
    {
      "cell_type": "markdown",
      "metadata": {
        "id": "YupiPGizsyvM"
      },
      "source": [
        "## Predict and Evaluate the Final Ensemble"
      ]
    },
    {
      "cell_type": "code",
      "metadata": {
        "colab": {
          "base_uri": "https://localhost:8080/"
        },
        "id": "Wjh-HpaLhEdk",
        "outputId": "a9c798ce-500c-4b99-c26f-d8b76f208b00"
      },
      "source": [
        "y_pred = model.predict(X_test)\n",
        "print(\"Accuracy score\", sklearn.metrics.accuracy_score(y_test, y_pred))"
      ],
      "execution_count": null,
      "outputs": [
        {
          "output_type": "stream",
          "text": [
            "Accuracy score 0.806615776081425\n"
          ],
          "name": "stdout"
        }
      ]
    },
    {
      "cell_type": "markdown",
      "metadata": {
        "id": "9AyMFAQI_w15"
      },
      "source": [
        "## Model Explanation\n",
        "\n",
        "Ref: https://auto.gluon.ai/dev/tutorials/tabular_prediction/tabular-indepth.html#interpretability-feature-importance"
      ]
    },
    {
      "cell_type": "code",
      "metadata": {
        "colab": {
          "base_uri": "https://localhost:8080/",
          "height": 318
        },
        "id": "khFRNJvNAHmt",
        "outputId": "e324f2b7-05ad-4fa7-ec9e-a121f4b84672"
      },
      "source": [
        "# Interpretability (feature importance)\n",
        "model.feature_importance(test)"
      ],
      "execution_count": null,
      "outputs": [
        {
          "output_type": "stream",
          "text": [
            "Computing feature importance via permutation shuffling for 7 features using 393 rows with 3 shuffle sets...\n",
            "\t7.11s\t= Expected runtime (2.37s per shuffle set)\n",
            "\t1.35s\t= Actual runtime (Completed 3 of 3 shuffle sets)\n"
          ],
          "name": "stderr"
        },
        {
          "output_type": "execute_result",
          "data": {
            "text/html": [
              "<div>\n",
              "<style scoped>\n",
              "    .dataframe tbody tr th:only-of-type {\n",
              "        vertical-align: middle;\n",
              "    }\n",
              "\n",
              "    .dataframe tbody tr th {\n",
              "        vertical-align: top;\n",
              "    }\n",
              "\n",
              "    .dataframe thead th {\n",
              "        text-align: right;\n",
              "    }\n",
              "</style>\n",
              "<table border=\"1\" class=\"dataframe\">\n",
              "  <thead>\n",
              "    <tr style=\"text-align: right;\">\n",
              "      <th></th>\n",
              "      <th>importance</th>\n",
              "      <th>stddev</th>\n",
              "      <th>p_value</th>\n",
              "      <th>n</th>\n",
              "      <th>p99_high</th>\n",
              "      <th>p99_low</th>\n",
              "    </tr>\n",
              "  </thead>\n",
              "  <tbody>\n",
              "    <tr>\n",
              "      <th>sex</th>\n",
              "      <td>0.167091</td>\n",
              "      <td>0.010594</td>\n",
              "      <td>0.000669</td>\n",
              "      <td>3</td>\n",
              "      <td>0.227794</td>\n",
              "      <td>0.106388</td>\n",
              "    </tr>\n",
              "    <tr>\n",
              "      <th>pclass</th>\n",
              "      <td>0.051739</td>\n",
              "      <td>0.005297</td>\n",
              "      <td>0.001738</td>\n",
              "      <td>3</td>\n",
              "      <td>0.082090</td>\n",
              "      <td>0.021387</td>\n",
              "    </tr>\n",
              "    <tr>\n",
              "      <th>age</th>\n",
              "      <td>0.045802</td>\n",
              "      <td>0.009174</td>\n",
              "      <td>0.006556</td>\n",
              "      <td>3</td>\n",
              "      <td>0.098372</td>\n",
              "      <td>-0.006769</td>\n",
              "    </tr>\n",
              "    <tr>\n",
              "      <th>embarked</th>\n",
              "      <td>0.022901</td>\n",
              "      <td>0.004407</td>\n",
              "      <td>0.006061</td>\n",
              "      <td>3</td>\n",
              "      <td>0.048155</td>\n",
              "      <td>-0.002353</td>\n",
              "    </tr>\n",
              "    <tr>\n",
              "      <th>fare</th>\n",
              "      <td>0.022053</td>\n",
              "      <td>0.007774</td>\n",
              "      <td>0.019506</td>\n",
              "      <td>3</td>\n",
              "      <td>0.066597</td>\n",
              "      <td>-0.022491</td>\n",
              "    </tr>\n",
              "    <tr>\n",
              "      <th>sibsp</th>\n",
              "      <td>0.018660</td>\n",
              "      <td>0.003887</td>\n",
              "      <td>0.007078</td>\n",
              "      <td>3</td>\n",
              "      <td>0.040932</td>\n",
              "      <td>-0.003612</td>\n",
              "    </tr>\n",
              "    <tr>\n",
              "      <th>parch</th>\n",
              "      <td>0.001696</td>\n",
              "      <td>0.003887</td>\n",
              "      <td>0.264298</td>\n",
              "      <td>3</td>\n",
              "      <td>0.023968</td>\n",
              "      <td>-0.020576</td>\n",
              "    </tr>\n",
              "  </tbody>\n",
              "</table>\n",
              "</div>"
            ],
            "text/plain": [
              "          importance    stddev   p_value  n  p99_high   p99_low\n",
              "sex         0.167091  0.010594  0.000669  3  0.227794  0.106388\n",
              "pclass      0.051739  0.005297  0.001738  3  0.082090  0.021387\n",
              "age         0.045802  0.009174  0.006556  3  0.098372 -0.006769\n",
              "embarked    0.022901  0.004407  0.006061  3  0.048155 -0.002353\n",
              "fare        0.022053  0.007774  0.019506  3  0.066597 -0.022491\n",
              "sibsp       0.018660  0.003887  0.007078  3  0.040932 -0.003612\n",
              "parch       0.001696  0.003887  0.264298  3  0.023968 -0.020576"
            ]
          },
          "metadata": {
            "tags": []
          },
          "execution_count": 17
        }
      ]
    },
    {
      "cell_type": "code",
      "metadata": {
        "id": "RHBVDPTa7urz"
      },
      "source": [
        ""
      ],
      "execution_count": null,
      "outputs": []
    }
  ]
}