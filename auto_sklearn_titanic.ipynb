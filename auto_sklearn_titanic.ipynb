{
  "nbformat": 4,
  "nbformat_minor": 0,
  "metadata": {
    "kernelspec": {
      "display_name": "Python 3",
      "language": "python",
      "name": "python3"
    },
    "language_info": {
      "codemirror_mode": {
        "name": "ipython",
        "version": 3
      },
      "file_extension": ".py",
      "mimetype": "text/x-python",
      "name": "python",
      "nbconvert_exporter": "python",
      "pygments_lexer": "ipython3",
      "version": "3.8.11"
    },
    "colab": {
      "name": "auto-sklearn-titanic.ipynb",
      "provenance": [],
      "collapsed_sections": [],
      "include_colab_link": true
    }
  },
  "cells": [
    {
      "cell_type": "markdown",
      "metadata": {
        "id": "view-in-github",
        "colab_type": "text"
      },
      "source": [
        "<a href=\"https://colab.research.google.com/github/hnishi/hello-automl/blob/main/auto_sklearn_titanic.ipynb\" target=\"_parent\"><img src=\"https://colab.research.google.com/assets/colab-badge.svg\" alt=\"Open In Colab\"/></a>"
      ]
    },
    {
      "cell_type": "code",
      "metadata": {
        "id": "c38j08cslrd_",
        "colab": {
          "base_uri": "https://localhost:8080/"
        },
        "outputId": "c964d83e-7844-426a-d1bb-e29eac0f519d"
      },
      "source": [
        "# https://automl.github.io/auto-sklearn/master/installation.html\n",
        "# install all dependencies manually\n",
        "!curl https://raw.githubusercontent.com/automl/auto-sklearn/master/requirements.txt | xargs -n 1 -L 1 pip -q install\n",
        "!pip install -q auto-sklearn"
      ],
      "execution_count": null,
      "outputs": [
        {
          "output_type": "stream",
          "text": [
            "  % Total    % Received % Xferd  Average Speed   Time    Time     Time  Current\n",
            "                                 Dload  Upload   Total   Spent    Left  Speed\n",
            "100   249  100   249    0     0   1518      0 --:--:-- --:--:-- --:--:--  1518\n",
            "\u001b[K     |████████████████████████████████| 28.5 MB 46 kB/s \n",
            "\u001b[31mERROR: pip's dependency resolver does not currently take into account all the packages that are installed. This behaviour is the source of the following dependency conflicts.\n",
            "albumentations 0.1.12 requires imgaug<0.2.7,>=0.2.5, but you have imgaug 0.2.9 which is incompatible.\u001b[0m\n",
            "\u001b[K     |████████████████████████████████| 22.3 MB 30 kB/s \n",
            "\u001b[K     |████████████████████████████████| 722 kB 4.8 MB/s \n",
            "\u001b[K     |████████████████████████████████| 973 kB 16.0 MB/s \n",
            "\u001b[K     |████████████████████████████████| 118 kB 21.7 MB/s \n",
            "\u001b[?25h  Building wheel for liac-arff (setup.py) ... \u001b[?25l\u001b[?25hdone\n",
            "\u001b[K     |████████████████████████████████| 4.2 MB 5.4 MB/s \n",
            "\u001b[?25h  Building wheel for pynisher (setup.py) ... \u001b[?25l\u001b[?25hdone\n",
            "\u001b[K     |████████████████████████████████| 4.0 MB 5.1 MB/s \n",
            "\u001b[K     |████████████████████████████████| 208 kB 5.2 MB/s \n",
            "\u001b[K     |████████████████████████████████| 6.3 MB 4.6 MB/s \n",
            "\u001b[?25h  Building wheel for auto-sklearn (setup.py) ... \u001b[?25l\u001b[?25hdone\n"
          ],
          "name": "stdout"
        }
      ]
    },
    {
      "cell_type": "code",
      "metadata": {
        "id": "wxk7KMj7W63H"
      },
      "source": [
        "# After upgrading scikit-learn version, you have to restart runtime.\n",
        "# Ref: https://stackoverflow.com/questions/57831187/need-to-restart-runtime-before-import-an-installed-package-in-colab\n",
        "\n",
        "# restart rumtime\n",
        "# Ref: https://stackoverflow.com/questions/53154369/google-colab-how-to-restart-runtime-using-python-code-or-command-line-interf\n",
        "import os\n",
        "os.kill(os.getpid(), 9)"
      ],
      "execution_count": null,
      "outputs": []
    },
    {
      "cell_type": "code",
      "metadata": {
        "id": "NPFkWzPSyx9Q"
      },
      "source": [
        "%matplotlib inline\n",
        "\n",
        "import time\n",
        "import matplotlib.pyplot as plt\n",
        "import numpy as np\n",
        "import pandas as pd\n",
        "import sklearn\n",
        "import sklearn.ensemble\n",
        "import sklearn.model_selection\n",
        "import sklearn.datasets\n",
        "import sklearn.metrics\n",
        "from sklearn.preprocessing import LabelEncoder\n",
        "from sklearn.inspection import plot_partial_dependence, permutation_importance\n",
        "\n",
        "from smac.tae import StatusType\n",
        "import autosklearn\n",
        "import autosklearn.classification\n",
        "import autosklearn.metrics"
      ],
      "execution_count": null,
      "outputs": []
    },
    {
      "cell_type": "code",
      "metadata": {
        "colab": {
          "base_uri": "https://localhost:8080/",
          "height": 35
        },
        "id": "SSV-oQXojyN8",
        "outputId": "bbce6262-e731-4f11-cdb1-ce9861d841d2"
      },
      "source": [
        "autosklearn.__version__"
      ],
      "execution_count": null,
      "outputs": [
        {
          "output_type": "execute_result",
          "data": {
            "application/vnd.google.colaboratory.intrinsic+json": {
              "type": "string"
            },
            "text/plain": [
              "'0.13.0'"
            ]
          },
          "metadata": {
            "tags": []
          },
          "execution_count": 2
        }
      ]
    },
    {
      "cell_type": "markdown",
      "metadata": {
        "id": "loda_oxuyx9T"
      },
      "source": [
        "## Data Loading and Preprocess\n",
        "\n",
        "Titanic Dataset\n",
        "\n",
        "X\n",
        "\n",
        "- pclass: passenger class (1st, 2nd, 3rd), a proxy for socio-economic class\n",
        "- name: name of passenger\n",
        "- sex: male or female\n",
        "- age: age in years (some infants had fractional values)\n",
        "- sibsp: number of siblings/spouses aboard\n",
        "- parch: number of parents/children aboard\n",
        "- ticket: ticket number\n",
        "- fare: passenger fare\n",
        "- cabin: cabin number\n",
        "- embarked: port of embarkation (C: Cherbourg, Q: Queenstown, S: Southampton)\n",
        "- boat: Lifeboat\n",
        "- body: body identification number\n",
        "- home.dest: home/destination\n",
        "\n",
        "y\n",
        "\n",
        "- survival: survival (0 = No; 1 = Yes)\n",
        "\n"
      ]
    },
    {
      "cell_type": "code",
      "metadata": {
        "id": "GNe5m4HSoyPt"
      },
      "source": [
        "# Using Titanic dataset https://www.openml.org/d/40945.\n",
        "# This example will use the command fetch_openml, which will\n",
        "# download a properly formatted dataframe if you use as_frame=True.\n",
        "X, y = sklearn.datasets.fetch_openml(data_id=40945, return_X_y=True, as_frame=True)"
      ],
      "execution_count": null,
      "outputs": []
    },
    {
      "cell_type": "code",
      "metadata": {
        "id": "OpfuhhJtjk0s"
      },
      "source": [
        "# remove columns to be consistent with Kaggle's titanic dataset\n",
        "X.drop(['name', 'cabin', 'ticket', 'body', 'home.dest', 'boat'], inplace=True, axis=1)\n",
        "\n",
        "X[\"pclass\"] = X[\"pclass\"].astype(\"int\")\n",
        "X[\"sibsp\"] = X[\"sibsp\"].astype(\"int\")\n",
        "X[\"parch\"] = X[\"parch\"].astype(\"int\")        \n",
        "X[\"age\"] = X[\"age\"].astype(\"float\")        \n",
        "X[\"fare\"] = X[\"fare\"].astype(\"float\")        \n",
        "X[\"embarked\"] = X[\"embarked\"].astype(\"category\")\n",
        "X[\"sex\"] = X[\"sex\"].astype(\"category\")\n",
        "y = y.astype(\"category\")"
      ],
      "execution_count": null,
      "outputs": []
    },
    {
      "cell_type": "code",
      "metadata": {
        "colab": {
          "base_uri": "https://localhost:8080/"
        },
        "id": "8v6Kf5UCpQ47",
        "outputId": "bb12cf61-4314-423a-a63f-aab9934b4764"
      },
      "source": [
        "# check missing values\n",
        "for column in X.columns:\n",
        "    print(f\"{column}: {str(sum(X[column].isnull()))} missing values\")"
      ],
      "execution_count": null,
      "outputs": [
        {
          "output_type": "stream",
          "text": [
            "pclass: 0 missing values\n",
            "sex: 0 missing values\n",
            "age: 263 missing values\n",
            "sibsp: 0 missing values\n",
            "parch: 0 missing values\n",
            "fare: 1 missing values\n",
            "embarked: 2 missing values\n"
          ],
          "name": "stdout"
        }
      ]
    },
    {
      "cell_type": "code",
      "metadata": {
        "colab": {
          "base_uri": "https://localhost:8080/"
        },
        "id": "aerH8XJehbrH",
        "outputId": "17a700b3-c192-4c60-ba76-fcf28db971b0"
      },
      "source": [
        "X.dtypes"
      ],
      "execution_count": null,
      "outputs": [
        {
          "output_type": "execute_result",
          "data": {
            "text/plain": [
              "pclass         int64\n",
              "sex         category\n",
              "age          float64\n",
              "sibsp          int64\n",
              "parch          int64\n",
              "fare         float64\n",
              "embarked    category\n",
              "dtype: object"
            ]
          },
          "metadata": {
            "tags": []
          },
          "execution_count": 6
        }
      ]
    },
    {
      "cell_type": "code",
      "metadata": {
        "id": "1y8Ve-YHep44"
      },
      "source": [
        "X_train, X_test, y_train, y_test = sklearn.model_selection.train_test_split(\n",
        "    X, y, test_size=0.3, random_state=1\n",
        ")"
      ],
      "execution_count": null,
      "outputs": []
    },
    {
      "cell_type": "markdown",
      "metadata": {
        "id": "ai1PZFl9RCpT"
      },
      "source": [
        "## Baseline"
      ]
    },
    {
      "cell_type": "code",
      "metadata": {
        "colab": {
          "base_uri": "https://localhost:8080/"
        },
        "id": "MLmPNs8rRFFO",
        "outputId": "71581e16-cd02-48f0-9b56-a54efb1f4ff1"
      },
      "source": [
        "# Gender model\n",
        "# It will predict that all women survive and all men do not survive.\n",
        "print(\"Accuracy score\", sklearn.metrics.accuracy_score(y_test, X_test[\"sex\"].map(lambda x: '1' if x == \"female\" else '0')))"
      ],
      "execution_count": null,
      "outputs": [
        {
          "output_type": "stream",
          "text": [
            "Accuracy score 0.7888040712468194\n"
          ],
          "name": "stdout"
        }
      ]
    },
    {
      "cell_type": "markdown",
      "metadata": {
        "id": "g6ogT-7Pyx9T"
      },
      "source": [
        "## Build and Fit a Classifier\n",
        "\n"
      ]
    },
    {
      "cell_type": "code",
      "metadata": {
        "id": "oqD7B3-OQmLD"
      },
      "source": [
        "# the Configuration Space object, from which Auto-Sklearn will sample configurations and build pipelines.\n",
        "# model.get_configuration_space(X_train, y_train)"
      ],
      "execution_count": null,
      "outputs": []
    },
    {
      "cell_type": "code",
      "metadata": {
        "colab": {
          "base_uri": "https://localhost:8080/"
        },
        "id": "w0bh8QZOgZy7",
        "outputId": "90370639-494b-4e0b-85fc-011f4a1db035"
      },
      "source": [
        "%%time\n",
        "model = autosklearn.classification.AutoSklearnClassifier(\n",
        "    metric=autosklearn.metrics.accuracy,\n",
        "    time_left_for_this_task=120,  # in sec\n",
        "    per_run_time_limit=30,  # in sec\n",
        "    memory_limit=3072,  # in MB\n",
        "    resampling_strategy='holdout',\n",
        "    resampling_strategy_arguments={'train_size': 0.67},\n",
        "    n_jobs=1,\n",
        "    seed=2,\n",
        "    ensemble_size=50,\n",
        "    # delete_tmp_folder_after_terminate=False,\n",
        "    # tmp_folder=\"./autosklearn_tmp\"\n",
        ")\n",
        "# X_test, y_test will be used to save test predictions for all models. This allows to evaluate the performance of Auto-sklearn over time.\n",
        "model.fit(X_train, y_train, X_test, y_test, dataset_name='titanic_example')\n",
        "# model.fit(X_train, y_train, dataset_name='titanic_example')"
      ],
      "execution_count": null,
      "outputs": [
        {
          "output_type": "stream",
          "text": [
            "CPU times: user 16.2 s, sys: 909 ms, total: 17.1 s\n",
            "Wall time: 2min 1s\n"
          ],
          "name": "stdout"
        }
      ]
    },
    {
      "cell_type": "code",
      "metadata": {
        "colab": {
          "base_uri": "https://localhost:8080/"
        },
        "id": "bOztOUUFj5Tu",
        "outputId": "be4aaeff-9cfa-42be-9b54-f9bd4c3459ec"
      },
      "source": [
        "# y_train_pred = model.predict(X_train)\n",
        "# print(\"Accuracy score\", sklearn.metrics.accuracy_score(y_train, y_train_pred))\n",
        "s = model.score(X_train, y_train)\n",
        "print(f\"Train score {s}\")"
      ],
      "execution_count": null,
      "outputs": [
        {
          "output_type": "stream",
          "text": [
            "Train score 0.9050218340611353\n"
          ],
          "name": "stdout"
        }
      ]
    },
    {
      "cell_type": "code",
      "metadata": {
        "id": "sfZtFBLNUcRA"
      },
      "source": [
        "# save and load model\n",
        "import pickle\n",
        "\n",
        "dump_file = \"model.pickle\"\n",
        "\n",
        "with open(dump_file, 'wb') as f:\n",
        "    pickle.dump(model, f)\n",
        "\n",
        "with open(dump_file, 'rb') as f:\n",
        "    restored_model = pickle.load(f)\n",
        "\n",
        "assert restored_model.score(X_train, y_train) == s"
      ],
      "execution_count": null,
      "outputs": []
    },
    {
      "cell_type": "code",
      "metadata": {
        "id": "u8Xaj9wRDD5u"
      },
      "source": [
        "# a representation of the final ensemble found by auto-sklearn\n",
        "# print(model.show_models())"
      ],
      "execution_count": null,
      "outputs": []
    },
    {
      "cell_type": "code",
      "metadata": {
        "id": "5bj9M0wMC6aa",
        "colab": {
          "base_uri": "https://localhost:8080/"
        },
        "outputId": "3bc5c0bb-a499-421e-a2eb-89b0dd34544d"
      },
      "source": [
        "#  the statistics of the training result:\n",
        "print(model.sprint_statistics())"
      ],
      "execution_count": null,
      "outputs": [
        {
          "output_type": "stream",
          "text": [
            "auto-sklearn results:\n",
            "  Dataset name: titanic_example\n",
            "  Metric: accuracy\n",
            "  Best validation score: 0.825083\n",
            "  Number of target algorithm runs: 25\n",
            "  Number of successful target algorithm runs: 23\n",
            "  Number of crashed target algorithm runs: 0\n",
            "  Number of target algorithms that exceeded the time limit: 2\n",
            "  Number of target algorithms that exceeded the memory limit: 0\n",
            "\n"
          ],
          "name": "stdout"
        }
      ]
    },
    {
      "cell_type": "markdown",
      "metadata": {
        "id": "YupiPGizsyvM"
      },
      "source": [
        "## Predict and Evaluate the Final Ensemble"
      ]
    },
    {
      "cell_type": "code",
      "metadata": {
        "colab": {
          "base_uri": "https://localhost:8080/"
        },
        "id": "Wjh-HpaLhEdk",
        "outputId": "dd96fd49-a8e6-489e-872c-e091cca2001f"
      },
      "source": [
        "# y_pred = model.predict(X_test)\n",
        "# print(\"Accuracy score\", sklearn.metrics.accuracy_score(y_test, y_pred))\n",
        "s = model.score(X_test, y_test)\n",
        "print(f\"Test score {s}\")"
      ],
      "execution_count": null,
      "outputs": [
        {
          "output_type": "stream",
          "text": [
            "Test score 0.7938931297709924\n"
          ],
          "name": "stdout"
        }
      ]
    },
    {
      "cell_type": "markdown",
      "metadata": {
        "id": "VNbry25EQKSq"
      },
      "source": [
        "### The Best Single Model"
      ]
    },
    {
      "cell_type": "code",
      "metadata": {
        "colab": {
          "base_uri": "https://localhost:8080/",
          "height": 511
        },
        "id": "BjHKoRgSKrFr",
        "outputId": "eb5d75e4-32bc-4752-a052-56d9c1db4d2c"
      },
      "source": [
        "model.leaderboard(detailed=False, ensemble_only=True, sort_by='cost')"
      ],
      "execution_count": null,
      "outputs": [
        {
          "output_type": "execute_result",
          "data": {
            "text/html": [
              "<div>\n",
              "<style scoped>\n",
              "    .dataframe tbody tr th:only-of-type {\n",
              "        vertical-align: middle;\n",
              "    }\n",
              "\n",
              "    .dataframe tbody tr th {\n",
              "        vertical-align: top;\n",
              "    }\n",
              "\n",
              "    .dataframe thead th {\n",
              "        text-align: right;\n",
              "    }\n",
              "</style>\n",
              "<table border=\"1\" class=\"dataframe\">\n",
              "  <thead>\n",
              "    <tr style=\"text-align: right;\">\n",
              "      <th></th>\n",
              "      <th>rank</th>\n",
              "      <th>ensemble_weight</th>\n",
              "      <th>type</th>\n",
              "      <th>cost</th>\n",
              "      <th>duration</th>\n",
              "    </tr>\n",
              "    <tr>\n",
              "      <th>model_id</th>\n",
              "      <th></th>\n",
              "      <th></th>\n",
              "      <th></th>\n",
              "      <th></th>\n",
              "      <th></th>\n",
              "    </tr>\n",
              "  </thead>\n",
              "  <tbody>\n",
              "    <tr>\n",
              "      <th>13</th>\n",
              "      <td>1</td>\n",
              "      <td>0.04</td>\n",
              "      <td>random_forest</td>\n",
              "      <td>0.174917</td>\n",
              "      <td>2.359404</td>\n",
              "    </tr>\n",
              "    <tr>\n",
              "      <th>6</th>\n",
              "      <td>2</td>\n",
              "      <td>0.02</td>\n",
              "      <td>extra_trees</td>\n",
              "      <td>0.181518</td>\n",
              "      <td>2.071649</td>\n",
              "    </tr>\n",
              "    <tr>\n",
              "      <th>8</th>\n",
              "      <td>3</td>\n",
              "      <td>0.16</td>\n",
              "      <td>gradient_boosting</td>\n",
              "      <td>0.194719</td>\n",
              "      <td>1.799690</td>\n",
              "    </tr>\n",
              "    <tr>\n",
              "      <th>16</th>\n",
              "      <td>4</td>\n",
              "      <td>0.02</td>\n",
              "      <td>extra_trees</td>\n",
              "      <td>0.194719</td>\n",
              "      <td>1.900935</td>\n",
              "    </tr>\n",
              "    <tr>\n",
              "      <th>17</th>\n",
              "      <td>5</td>\n",
              "      <td>0.22</td>\n",
              "      <td>adaboost</td>\n",
              "      <td>0.194719</td>\n",
              "      <td>2.230861</td>\n",
              "    </tr>\n",
              "    <tr>\n",
              "      <th>10</th>\n",
              "      <td>6</td>\n",
              "      <td>0.16</td>\n",
              "      <td>extra_trees</td>\n",
              "      <td>0.204620</td>\n",
              "      <td>2.597821</td>\n",
              "    </tr>\n",
              "    <tr>\n",
              "      <th>20</th>\n",
              "      <td>7</td>\n",
              "      <td>0.02</td>\n",
              "      <td>lda</td>\n",
              "      <td>0.221122</td>\n",
              "      <td>1.023775</td>\n",
              "    </tr>\n",
              "    <tr>\n",
              "      <th>5</th>\n",
              "      <td>8</td>\n",
              "      <td>0.02</td>\n",
              "      <td>liblinear_svc</td>\n",
              "      <td>0.224422</td>\n",
              "      <td>0.949402</td>\n",
              "    </tr>\n",
              "    <tr>\n",
              "      <th>14</th>\n",
              "      <td>9</td>\n",
              "      <td>0.02</td>\n",
              "      <td>mlp</td>\n",
              "      <td>0.231023</td>\n",
              "      <td>1.670608</td>\n",
              "    </tr>\n",
              "    <tr>\n",
              "      <th>21</th>\n",
              "      <td>10</td>\n",
              "      <td>0.18</td>\n",
              "      <td>adaboost</td>\n",
              "      <td>0.244224</td>\n",
              "      <td>1.964480</td>\n",
              "    </tr>\n",
              "    <tr>\n",
              "      <th>11</th>\n",
              "      <td>11</td>\n",
              "      <td>0.02</td>\n",
              "      <td>mlp</td>\n",
              "      <td>0.247525</td>\n",
              "      <td>3.353271</td>\n",
              "    </tr>\n",
              "    <tr>\n",
              "      <th>24</th>\n",
              "      <td>12</td>\n",
              "      <td>0.06</td>\n",
              "      <td>extra_trees</td>\n",
              "      <td>0.250825</td>\n",
              "      <td>2.188473</td>\n",
              "    </tr>\n",
              "    <tr>\n",
              "      <th>12</th>\n",
              "      <td>13</td>\n",
              "      <td>0.04</td>\n",
              "      <td>mlp</td>\n",
              "      <td>0.254125</td>\n",
              "      <td>1.717392</td>\n",
              "    </tr>\n",
              "    <tr>\n",
              "      <th>18</th>\n",
              "      <td>14</td>\n",
              "      <td>0.02</td>\n",
              "      <td>qda</td>\n",
              "      <td>0.254125</td>\n",
              "      <td>1.028548</td>\n",
              "    </tr>\n",
              "  </tbody>\n",
              "</table>\n",
              "</div>"
            ],
            "text/plain": [
              "          rank  ensemble_weight               type      cost  duration\n",
              "model_id                                                              \n",
              "13           1             0.04      random_forest  0.174917  2.359404\n",
              "6            2             0.02        extra_trees  0.181518  2.071649\n",
              "8            3             0.16  gradient_boosting  0.194719  1.799690\n",
              "16           4             0.02        extra_trees  0.194719  1.900935\n",
              "17           5             0.22           adaboost  0.194719  2.230861\n",
              "10           6             0.16        extra_trees  0.204620  2.597821\n",
              "20           7             0.02                lda  0.221122  1.023775\n",
              "5            8             0.02      liblinear_svc  0.224422  0.949402\n",
              "14           9             0.02                mlp  0.231023  1.670608\n",
              "21          10             0.18           adaboost  0.244224  1.964480\n",
              "11          11             0.02                mlp  0.247525  3.353271\n",
              "24          12             0.06        extra_trees  0.250825  2.188473\n",
              "12          13             0.04                mlp  0.254125  1.717392\n",
              "18          14             0.02                qda  0.254125  1.028548"
            ]
          },
          "metadata": {
            "tags": []
          },
          "execution_count": 16
        }
      ]
    },
    {
      "cell_type": "code",
      "metadata": {
        "id": "At_rRkhRrWRE",
        "colab": {
          "base_uri": "https://localhost:8080/"
        },
        "outputId": "a0771386-0fe7-4d35-ffc2-fb22ef451391"
      },
      "source": [
        "# a list of the final ensemble found by auto-sklearn.\n",
        "list_models = model.get_models_with_weights()\n",
        "list_models"
      ],
      "execution_count": null,
      "outputs": [
        {
          "output_type": "execute_result",
          "data": {
            "text/plain": [
              "[(0.22,\n",
              "  SimpleClassificationPipeline({'balancing:strategy': 'none', 'classifier:__choice__': 'adaboost', 'data_preprocessing:categorical_transformer:categorical_encoding:__choice__': 'one_hot_encoding', 'data_preprocessing:categorical_transformer:category_coalescence:__choice__': 'minority_coalescer', 'data_preprocessing:numerical_transformer:imputation:strategy': 'mean', 'data_preprocessing:numerical_transformer:rescaling:__choice__': 'robust_scaler', 'feature_preprocessor:__choice__': 'extra_trees_preproc_for_classification', 'classifier:adaboost:algorithm': 'SAMME.R', 'classifier:adaboost:learning_rate': 0.046269426995092074, 'classifier:adaboost:max_depth': 3, 'classifier:adaboost:n_estimators': 406, 'data_preprocessing:categorical_transformer:category_coalescence:minority_coalescer:minimum_fraction': 0.002102242030216922, 'data_preprocessing:numerical_transformer:rescaling:robust_scaler:q_max': 0.7697572103377026, 'data_preprocessing:numerical_transformer:rescaling:robust_scaler:q_min': 0.280953821785477, 'feature_preprocessor:extra_trees_preproc_for_classification:bootstrap': 'False', 'feature_preprocessor:extra_trees_preproc_for_classification:criterion': 'entropy', 'feature_preprocessor:extra_trees_preproc_for_classification:max_depth': 'None', 'feature_preprocessor:extra_trees_preproc_for_classification:max_features': 0.40839846168190147, 'feature_preprocessor:extra_trees_preproc_for_classification:max_leaf_nodes': 'None', 'feature_preprocessor:extra_trees_preproc_for_classification:min_impurity_decrease': 0.0, 'feature_preprocessor:extra_trees_preproc_for_classification:min_samples_leaf': 4, 'feature_preprocessor:extra_trees_preproc_for_classification:min_samples_split': 7, 'feature_preprocessor:extra_trees_preproc_for_classification:min_weight_fraction_leaf': 0.0, 'feature_preprocessor:extra_trees_preproc_for_classification:n_estimators': 100},\n",
              "  dataset_properties={\n",
              "    'task': 1,\n",
              "    'sparse': False,\n",
              "    'multilabel': False,\n",
              "    'multiclass': False,\n",
              "    'target_type': 'classification',\n",
              "    'signed': False})),\n",
              " (0.18,\n",
              "  SimpleClassificationPipeline({'balancing:strategy': 'weighting', 'classifier:__choice__': 'adaboost', 'data_preprocessing:categorical_transformer:categorical_encoding:__choice__': 'one_hot_encoding', 'data_preprocessing:categorical_transformer:category_coalescence:__choice__': 'minority_coalescer', 'data_preprocessing:numerical_transformer:imputation:strategy': 'most_frequent', 'data_preprocessing:numerical_transformer:rescaling:__choice__': 'minmax', 'feature_preprocessor:__choice__': 'feature_agglomeration', 'classifier:adaboost:algorithm': 'SAMME', 'classifier:adaboost:learning_rate': 0.03734246906377268, 'classifier:adaboost:max_depth': 2, 'classifier:adaboost:n_estimators': 416, 'data_preprocessing:categorical_transformer:category_coalescence:minority_coalescer:minimum_fraction': 0.01340273457911319, 'feature_preprocessor:feature_agglomeration:affinity': 'euclidean', 'feature_preprocessor:feature_agglomeration:linkage': 'ward', 'feature_preprocessor:feature_agglomeration:n_clusters': 22, 'feature_preprocessor:feature_agglomeration:pooling_func': 'mean'},\n",
              "  dataset_properties={\n",
              "    'task': 1,\n",
              "    'sparse': False,\n",
              "    'multilabel': False,\n",
              "    'multiclass': False,\n",
              "    'target_type': 'classification',\n",
              "    'signed': False})),\n",
              " (0.16,\n",
              "  SimpleClassificationPipeline({'balancing:strategy': 'weighting', 'classifier:__choice__': 'extra_trees', 'data_preprocessing:categorical_transformer:categorical_encoding:__choice__': 'no_encoding', 'data_preprocessing:categorical_transformer:category_coalescence:__choice__': 'minority_coalescer', 'data_preprocessing:numerical_transformer:imputation:strategy': 'median', 'data_preprocessing:numerical_transformer:rescaling:__choice__': 'robust_scaler', 'feature_preprocessor:__choice__': 'polynomial', 'classifier:extra_trees:bootstrap': 'False', 'classifier:extra_trees:criterion': 'entropy', 'classifier:extra_trees:max_depth': 'None', 'classifier:extra_trees:max_features': 0.993803313878608, 'classifier:extra_trees:max_leaf_nodes': 'None', 'classifier:extra_trees:min_impurity_decrease': 0.0, 'classifier:extra_trees:min_samples_leaf': 2, 'classifier:extra_trees:min_samples_split': 20, 'classifier:extra_trees:min_weight_fraction_leaf': 0.0, 'data_preprocessing:categorical_transformer:category_coalescence:minority_coalescer:minimum_fraction': 0.41826215858914706, 'data_preprocessing:numerical_transformer:rescaling:robust_scaler:q_max': 0.7305615609807856, 'data_preprocessing:numerical_transformer:rescaling:robust_scaler:q_min': 0.25595970768123566, 'feature_preprocessor:polynomial:degree': 2, 'feature_preprocessor:polynomial:include_bias': 'True', 'feature_preprocessor:polynomial:interaction_only': 'True'},\n",
              "  dataset_properties={\n",
              "    'task': 1,\n",
              "    'sparse': False,\n",
              "    'multilabel': False,\n",
              "    'multiclass': False,\n",
              "    'target_type': 'classification',\n",
              "    'signed': False})),\n",
              " (0.16,\n",
              "  SimpleClassificationPipeline({'balancing:strategy': 'weighting', 'classifier:__choice__': 'gradient_boosting', 'data_preprocessing:categorical_transformer:categorical_encoding:__choice__': 'one_hot_encoding', 'data_preprocessing:categorical_transformer:category_coalescence:__choice__': 'minority_coalescer', 'data_preprocessing:numerical_transformer:imputation:strategy': 'most_frequent', 'data_preprocessing:numerical_transformer:rescaling:__choice__': 'none', 'feature_preprocessor:__choice__': 'select_percentile_classification', 'classifier:gradient_boosting:early_stop': 'train', 'classifier:gradient_boosting:l2_regularization': 3.387912939529945e-10, 'classifier:gradient_boosting:learning_rate': 0.30755227194768237, 'classifier:gradient_boosting:loss': 'auto', 'classifier:gradient_boosting:max_bins': 255, 'classifier:gradient_boosting:max_depth': 'None', 'classifier:gradient_boosting:max_leaf_nodes': 60, 'classifier:gradient_boosting:min_samples_leaf': 39, 'classifier:gradient_boosting:scoring': 'loss', 'classifier:gradient_boosting:tol': 1e-07, 'data_preprocessing:categorical_transformer:category_coalescence:minority_coalescer:minimum_fraction': 0.010000000000000004, 'feature_preprocessor:select_percentile_classification:percentile': 93.39844669585806, 'feature_preprocessor:select_percentile_classification:score_func': 'f_classif', 'classifier:gradient_boosting:n_iter_no_change': 18},\n",
              "  dataset_properties={\n",
              "    'task': 1,\n",
              "    'sparse': False,\n",
              "    'multilabel': False,\n",
              "    'multiclass': False,\n",
              "    'target_type': 'classification',\n",
              "    'signed': False})),\n",
              " (0.06,\n",
              "  SimpleClassificationPipeline({'balancing:strategy': 'none', 'classifier:__choice__': 'extra_trees', 'data_preprocessing:categorical_transformer:categorical_encoding:__choice__': 'no_encoding', 'data_preprocessing:categorical_transformer:category_coalescence:__choice__': 'no_coalescense', 'data_preprocessing:numerical_transformer:imputation:strategy': 'most_frequent', 'data_preprocessing:numerical_transformer:rescaling:__choice__': 'standardize', 'feature_preprocessor:__choice__': 'pca', 'classifier:extra_trees:bootstrap': 'True', 'classifier:extra_trees:criterion': 'entropy', 'classifier:extra_trees:max_depth': 'None', 'classifier:extra_trees:max_features': 0.8265196467659193, 'classifier:extra_trees:max_leaf_nodes': 'None', 'classifier:extra_trees:min_impurity_decrease': 0.0, 'classifier:extra_trees:min_samples_leaf': 1, 'classifier:extra_trees:min_samples_split': 16, 'classifier:extra_trees:min_weight_fraction_leaf': 0.0, 'feature_preprocessor:pca:keep_variance': 0.720253510200762, 'feature_preprocessor:pca:whiten': 'True'},\n",
              "  dataset_properties={\n",
              "    'task': 1,\n",
              "    'sparse': False,\n",
              "    'multilabel': False,\n",
              "    'multiclass': False,\n",
              "    'target_type': 'classification',\n",
              "    'signed': False})),\n",
              " (0.04,\n",
              "  SimpleClassificationPipeline({'balancing:strategy': 'weighting', 'classifier:__choice__': 'mlp', 'data_preprocessing:categorical_transformer:categorical_encoding:__choice__': 'no_encoding', 'data_preprocessing:categorical_transformer:category_coalescence:__choice__': 'no_coalescense', 'data_preprocessing:numerical_transformer:imputation:strategy': 'most_frequent', 'data_preprocessing:numerical_transformer:rescaling:__choice__': 'standardize', 'feature_preprocessor:__choice__': 'fast_ica', 'classifier:mlp:activation': 'relu', 'classifier:mlp:alpha': 0.0017940473175767063, 'classifier:mlp:batch_size': 'auto', 'classifier:mlp:beta_1': 0.9, 'classifier:mlp:beta_2': 0.999, 'classifier:mlp:early_stopping': 'valid', 'classifier:mlp:epsilon': 1e-08, 'classifier:mlp:hidden_layer_depth': 2, 'classifier:mlp:learning_rate_init': 0.0004684917334431039, 'classifier:mlp:n_iter_no_change': 32, 'classifier:mlp:num_nodes_per_layer': 101, 'classifier:mlp:shuffle': 'True', 'classifier:mlp:solver': 'adam', 'classifier:mlp:tol': 0.0001, 'feature_preprocessor:fast_ica:algorithm': 'parallel', 'feature_preprocessor:fast_ica:fun': 'exp', 'feature_preprocessor:fast_ica:whiten': 'False', 'classifier:mlp:validation_fraction': 0.1},\n",
              "  dataset_properties={\n",
              "    'task': 1,\n",
              "    'sparse': False,\n",
              "    'multilabel': False,\n",
              "    'multiclass': False,\n",
              "    'target_type': 'classification',\n",
              "    'signed': False})),\n",
              " (0.04,\n",
              "  SimpleClassificationPipeline({'balancing:strategy': 'none', 'classifier:__choice__': 'random_forest', 'data_preprocessing:categorical_transformer:categorical_encoding:__choice__': 'one_hot_encoding', 'data_preprocessing:categorical_transformer:category_coalescence:__choice__': 'minority_coalescer', 'data_preprocessing:numerical_transformer:imputation:strategy': 'most_frequent', 'data_preprocessing:numerical_transformer:rescaling:__choice__': 'standardize', 'feature_preprocessor:__choice__': 'no_preprocessing', 'classifier:random_forest:bootstrap': 'True', 'classifier:random_forest:criterion': 'entropy', 'classifier:random_forest:max_depth': 'None', 'classifier:random_forest:max_features': 0.926283631486858, 'classifier:random_forest:max_leaf_nodes': 'None', 'classifier:random_forest:min_impurity_decrease': 0.0, 'classifier:random_forest:min_samples_leaf': 7, 'classifier:random_forest:min_samples_split': 2, 'classifier:random_forest:min_weight_fraction_leaf': 0.0, 'data_preprocessing:categorical_transformer:category_coalescence:minority_coalescer:minimum_fraction': 0.16265262021972576},\n",
              "  dataset_properties={\n",
              "    'task': 1,\n",
              "    'sparse': False,\n",
              "    'multilabel': False,\n",
              "    'multiclass': False,\n",
              "    'target_type': 'classification',\n",
              "    'signed': False})),\n",
              " (0.02,\n",
              "  SimpleClassificationPipeline({'balancing:strategy': 'weighting', 'classifier:__choice__': 'mlp', 'data_preprocessing:categorical_transformer:categorical_encoding:__choice__': 'one_hot_encoding', 'data_preprocessing:categorical_transformer:category_coalescence:__choice__': 'minority_coalescer', 'data_preprocessing:numerical_transformer:imputation:strategy': 'median', 'data_preprocessing:numerical_transformer:rescaling:__choice__': 'none', 'feature_preprocessor:__choice__': 'feature_agglomeration', 'classifier:mlp:activation': 'relu', 'classifier:mlp:alpha': 0.0005005168300134541, 'classifier:mlp:batch_size': 'auto', 'classifier:mlp:beta_1': 0.9, 'classifier:mlp:beta_2': 0.999, 'classifier:mlp:early_stopping': 'train', 'classifier:mlp:epsilon': 1e-08, 'classifier:mlp:hidden_layer_depth': 2, 'classifier:mlp:learning_rate_init': 0.0012631168744483667, 'classifier:mlp:n_iter_no_change': 32, 'classifier:mlp:num_nodes_per_layer': 262, 'classifier:mlp:shuffle': 'True', 'classifier:mlp:solver': 'adam', 'classifier:mlp:tol': 0.0001, 'data_preprocessing:categorical_transformer:category_coalescence:minority_coalescer:minimum_fraction': 0.010159946014740783, 'feature_preprocessor:feature_agglomeration:affinity': 'euclidean', 'feature_preprocessor:feature_agglomeration:linkage': 'ward', 'feature_preprocessor:feature_agglomeration:n_clusters': 398, 'feature_preprocessor:feature_agglomeration:pooling_func': 'max'},\n",
              "  dataset_properties={\n",
              "    'task': 1,\n",
              "    'sparse': False,\n",
              "    'multilabel': False,\n",
              "    'multiclass': False,\n",
              "    'target_type': 'classification',\n",
              "    'signed': False})),\n",
              " (0.02,\n",
              "  SimpleClassificationPipeline({'balancing:strategy': 'none', 'classifier:__choice__': 'mlp', 'data_preprocessing:categorical_transformer:categorical_encoding:__choice__': 'no_encoding', 'data_preprocessing:categorical_transformer:category_coalescence:__choice__': 'no_coalescense', 'data_preprocessing:numerical_transformer:imputation:strategy': 'median', 'data_preprocessing:numerical_transformer:rescaling:__choice__': 'standardize', 'feature_preprocessor:__choice__': 'feature_agglomeration', 'classifier:mlp:activation': 'tanh', 'classifier:mlp:alpha': 0.0001363185819149026, 'classifier:mlp:batch_size': 'auto', 'classifier:mlp:beta_1': 0.9, 'classifier:mlp:beta_2': 0.999, 'classifier:mlp:early_stopping': 'valid', 'classifier:mlp:epsilon': 1e-08, 'classifier:mlp:hidden_layer_depth': 3, 'classifier:mlp:learning_rate_init': 0.00018009776276177523, 'classifier:mlp:n_iter_no_change': 32, 'classifier:mlp:num_nodes_per_layer': 115, 'classifier:mlp:shuffle': 'True', 'classifier:mlp:solver': 'adam', 'classifier:mlp:tol': 0.0001, 'feature_preprocessor:feature_agglomeration:affinity': 'euclidean', 'feature_preprocessor:feature_agglomeration:linkage': 'ward', 'feature_preprocessor:feature_agglomeration:n_clusters': 182, 'feature_preprocessor:feature_agglomeration:pooling_func': 'mean', 'classifier:mlp:validation_fraction': 0.1},\n",
              "  dataset_properties={\n",
              "    'task': 1,\n",
              "    'sparse': False,\n",
              "    'multilabel': False,\n",
              "    'multiclass': False,\n",
              "    'target_type': 'classification',\n",
              "    'signed': False})),\n",
              " (0.02,\n",
              "  SimpleClassificationPipeline({'balancing:strategy': 'none', 'classifier:__choice__': 'extra_trees', 'data_preprocessing:categorical_transformer:categorical_encoding:__choice__': 'one_hot_encoding', 'data_preprocessing:categorical_transformer:category_coalescence:__choice__': 'no_coalescense', 'data_preprocessing:numerical_transformer:imputation:strategy': 'median', 'data_preprocessing:numerical_transformer:rescaling:__choice__': 'none', 'feature_preprocessor:__choice__': 'select_rates_classification', 'classifier:extra_trees:bootstrap': 'False', 'classifier:extra_trees:criterion': 'entropy', 'classifier:extra_trees:max_depth': 'None', 'classifier:extra_trees:max_features': 0.562561668029056, 'classifier:extra_trees:max_leaf_nodes': 'None', 'classifier:extra_trees:min_impurity_decrease': 0.0, 'classifier:extra_trees:min_samples_leaf': 2, 'classifier:extra_trees:min_samples_split': 15, 'classifier:extra_trees:min_weight_fraction_leaf': 0.0, 'feature_preprocessor:select_rates_classification:alpha': 0.32106218519214325, 'feature_preprocessor:select_rates_classification:score_func': 'chi2', 'feature_preprocessor:select_rates_classification:mode': 'fwe'},\n",
              "  dataset_properties={\n",
              "    'task': 1,\n",
              "    'sparse': False,\n",
              "    'multilabel': False,\n",
              "    'multiclass': False,\n",
              "    'target_type': 'classification',\n",
              "    'signed': False})),\n",
              " (0.02,\n",
              "  SimpleClassificationPipeline({'balancing:strategy': 'weighting', 'classifier:__choice__': 'qda', 'data_preprocessing:categorical_transformer:categorical_encoding:__choice__': 'no_encoding', 'data_preprocessing:categorical_transformer:category_coalescence:__choice__': 'no_coalescense', 'data_preprocessing:numerical_transformer:imputation:strategy': 'most_frequent', 'data_preprocessing:numerical_transformer:rescaling:__choice__': 'standardize', 'feature_preprocessor:__choice__': 'no_preprocessing', 'classifier:qda:reg_param': 0.585497512341966},\n",
              "  dataset_properties={\n",
              "    'task': 1,\n",
              "    'sparse': False,\n",
              "    'multilabel': False,\n",
              "    'multiclass': False,\n",
              "    'target_type': 'classification',\n",
              "    'signed': False})),\n",
              " (0.02,\n",
              "  SimpleClassificationPipeline({'balancing:strategy': 'weighting', 'classifier:__choice__': 'lda', 'data_preprocessing:categorical_transformer:categorical_encoding:__choice__': 'no_encoding', 'data_preprocessing:categorical_transformer:category_coalescence:__choice__': 'no_coalescense', 'data_preprocessing:numerical_transformer:imputation:strategy': 'median', 'data_preprocessing:numerical_transformer:rescaling:__choice__': 'quantile_transformer', 'feature_preprocessor:__choice__': 'liblinear_svc_preprocessor', 'classifier:lda:shrinkage': 'manual', 'classifier:lda:tol': 0.0007215763283486354, 'data_preprocessing:numerical_transformer:rescaling:quantile_transformer:n_quantiles': 851, 'data_preprocessing:numerical_transformer:rescaling:quantile_transformer:output_distribution': 'uniform', 'feature_preprocessor:liblinear_svc_preprocessor:C': 2.160480406584884, 'feature_preprocessor:liblinear_svc_preprocessor:dual': 'False', 'feature_preprocessor:liblinear_svc_preprocessor:fit_intercept': 'True', 'feature_preprocessor:liblinear_svc_preprocessor:intercept_scaling': 1, 'feature_preprocessor:liblinear_svc_preprocessor:loss': 'squared_hinge', 'feature_preprocessor:liblinear_svc_preprocessor:multi_class': 'ovr', 'feature_preprocessor:liblinear_svc_preprocessor:penalty': 'l1', 'feature_preprocessor:liblinear_svc_preprocessor:tol': 0.010943990816220809, 'classifier:lda:shrinkage_factor': 0.3306135150299744},\n",
              "  dataset_properties={\n",
              "    'task': 1,\n",
              "    'sparse': False,\n",
              "    'multilabel': False,\n",
              "    'multiclass': False,\n",
              "    'target_type': 'classification',\n",
              "    'signed': False})),\n",
              " (0.02,\n",
              "  SimpleClassificationPipeline({'balancing:strategy': 'none', 'classifier:__choice__': 'liblinear_svc', 'data_preprocessing:categorical_transformer:categorical_encoding:__choice__': 'no_encoding', 'data_preprocessing:categorical_transformer:category_coalescence:__choice__': 'minority_coalescer', 'data_preprocessing:numerical_transformer:imputation:strategy': 'mean', 'data_preprocessing:numerical_transformer:rescaling:__choice__': 'robust_scaler', 'feature_preprocessor:__choice__': 'select_percentile_classification', 'classifier:liblinear_svc:C': 17045.7732372673, 'classifier:liblinear_svc:dual': 'False', 'classifier:liblinear_svc:fit_intercept': 'True', 'classifier:liblinear_svc:intercept_scaling': 1, 'classifier:liblinear_svc:loss': 'squared_hinge', 'classifier:liblinear_svc:multi_class': 'ovr', 'classifier:liblinear_svc:penalty': 'l2', 'classifier:liblinear_svc:tol': 0.0008192814934567822, 'data_preprocessing:categorical_transformer:category_coalescence:minority_coalescer:minimum_fraction': 0.008405913574040906, 'data_preprocessing:numerical_transformer:rescaling:robust_scaler:q_max': 0.9598706457974426, 'data_preprocessing:numerical_transformer:rescaling:robust_scaler:q_min': 0.1882826974837794, 'feature_preprocessor:select_percentile_classification:percentile': 63.57218134514263, 'feature_preprocessor:select_percentile_classification:score_func': 'mutual_info'},\n",
              "  dataset_properties={\n",
              "    'task': 1,\n",
              "    'sparse': False,\n",
              "    'multilabel': False,\n",
              "    'multiclass': False,\n",
              "    'target_type': 'classification',\n",
              "    'signed': False})),\n",
              " (0.02,\n",
              "  SimpleClassificationPipeline({'balancing:strategy': 'none', 'classifier:__choice__': 'extra_trees', 'data_preprocessing:categorical_transformer:categorical_encoding:__choice__': 'one_hot_encoding', 'data_preprocessing:categorical_transformer:category_coalescence:__choice__': 'no_coalescense', 'data_preprocessing:numerical_transformer:imputation:strategy': 'median', 'data_preprocessing:numerical_transformer:rescaling:__choice__': 'none', 'feature_preprocessor:__choice__': 'polynomial', 'classifier:extra_trees:bootstrap': 'False', 'classifier:extra_trees:criterion': 'gini', 'classifier:extra_trees:max_depth': 'None', 'classifier:extra_trees:max_features': 0.5707983257382487, 'classifier:extra_trees:max_leaf_nodes': 'None', 'classifier:extra_trees:min_impurity_decrease': 0.0, 'classifier:extra_trees:min_samples_leaf': 3, 'classifier:extra_trees:min_samples_split': 11, 'classifier:extra_trees:min_weight_fraction_leaf': 0.0, 'feature_preprocessor:polynomial:degree': 2, 'feature_preprocessor:polynomial:include_bias': 'False', 'feature_preprocessor:polynomial:interaction_only': 'False'},\n",
              "  dataset_properties={\n",
              "    'task': 1,\n",
              "    'sparse': False,\n",
              "    'multilabel': False,\n",
              "    'multiclass': False,\n",
              "    'target_type': 'classification',\n",
              "    'signed': False}))]"
            ]
          },
          "metadata": {
            "tags": []
          },
          "execution_count": 17
        }
      ]
    },
    {
      "cell_type": "code",
      "metadata": {
        "colab": {
          "base_uri": "https://localhost:8080/"
        },
        "id": "XxRsphfkIuOD",
        "outputId": "204071ef-eefd-40f3-ed59-76c7f6590fe3"
      },
      "source": [
        "model_rf = list_models[6][1]\n",
        "model_rf.score(X_test, y_test.astype(\"int\"))"
      ],
      "execution_count": null,
      "outputs": [
        {
          "output_type": "execute_result",
          "data": {
            "text/plain": [
              "0.7913486005089059"
            ]
          },
          "metadata": {
            "tags": []
          },
          "execution_count": 23
        }
      ]
    },
    {
      "cell_type": "code",
      "metadata": {
        "colab": {
          "base_uri": "https://localhost:8080/"
        },
        "id": "Wf3bk6a1QzPQ",
        "outputId": "6138de82-7912-44fb-fa1c-a2e25a982896"
      },
      "source": [
        "model_rf"
      ],
      "execution_count": null,
      "outputs": [
        {
          "output_type": "execute_result",
          "data": {
            "text/plain": [
              "SimpleClassificationPipeline({'balancing:strategy': 'none', 'classifier:__choice__': 'random_forest', 'data_preprocessing:categorical_transformer:categorical_encoding:__choice__': 'one_hot_encoding', 'data_preprocessing:categorical_transformer:category_coalescence:__choice__': 'minority_coalescer', 'data_preprocessing:numerical_transformer:imputation:strategy': 'most_frequent', 'data_preprocessing:numerical_transformer:rescaling:__choice__': 'standardize', 'feature_preprocessor:__choice__': 'no_preprocessing', 'classifier:random_forest:bootstrap': 'True', 'classifier:random_forest:criterion': 'entropy', 'classifier:random_forest:max_depth': 'None', 'classifier:random_forest:max_features': 0.926283631486858, 'classifier:random_forest:max_leaf_nodes': 'None', 'classifier:random_forest:min_impurity_decrease': 0.0, 'classifier:random_forest:min_samples_leaf': 7, 'classifier:random_forest:min_samples_split': 2, 'classifier:random_forest:min_weight_fraction_leaf': 0.0, 'data_preprocessing:categorical_transformer:category_coalescence:minority_coalescer:minimum_fraction': 0.16265262021972576},\n",
              "dataset_properties={\n",
              "  'task': 1,\n",
              "  'sparse': False,\n",
              "  'multilabel': False,\n",
              "  'multiclass': False,\n",
              "  'target_type': 'classification',\n",
              "  'signed': False})"
            ]
          },
          "metadata": {
            "tags": []
          },
          "execution_count": 24
        }
      ]
    },
    {
      "cell_type": "markdown",
      "metadata": {
        "id": "dEWvwzu5eOru"
      },
      "source": [
        "### Evaluate the performance of an ensemble model and a single model"
      ]
    },
    {
      "cell_type": "code",
      "metadata": {
        "colab": {
          "base_uri": "https://localhost:8080/"
        },
        "id": "00htSJyCeIig",
        "outputId": "4f134269-f215-4073-8dba-bb944caf3269"
      },
      "source": [
        "%%time\n",
        "for i in range(10):\n",
        "  y_pred = model.predict(X_test)"
      ],
      "execution_count": null,
      "outputs": [
        {
          "output_type": "stream",
          "text": [
            "CPU times: user 8.28 s, sys: 2.26 s, total: 10.5 s\n",
            "Wall time: 7.71 s\n"
          ],
          "name": "stdout"
        }
      ]
    },
    {
      "cell_type": "code",
      "metadata": {
        "colab": {
          "base_uri": "https://localhost:8080/"
        },
        "id": "PA2XvlDwekQg",
        "outputId": "fc937cc3-2650-44cf-a898-9baa0cf90e21"
      },
      "source": [
        "%%time\n",
        "for i in range(10):\n",
        "  y_pred_rf = model_rf.predict(X_test)"
      ],
      "execution_count": null,
      "outputs": [
        {
          "output_type": "stream",
          "text": [
            "CPU times: user 882 ms, sys: 3.96 ms, total: 885 ms\n",
            "Wall time: 874 ms\n"
          ],
          "name": "stdout"
        }
      ]
    },
    {
      "cell_type": "markdown",
      "metadata": {
        "id": "iNw5toKqyx9V"
      },
      "source": [
        "### Plot the ensemble performance\n",
        "\n",
        "Ref: https://automl.github.io/auto-sklearn/master/examples/40_advanced/example_pandas_train_test.html#sphx-glr-examples-40-advanced-example-pandas-train-test-py"
      ]
    },
    {
      "cell_type": "code",
      "metadata": {
        "id": "dTmRuSTSyx9S"
      },
      "source": [
        "def get_runhistory_models_performance(automl):\n",
        "    metric = automl.automl_._metric\n",
        "    data = automl.automl_.runhistory_.data\n",
        "    performance_list = []\n",
        "    for run_key, run_value in data.items():\n",
        "        if run_value.status != StatusType.SUCCESS:\n",
        "            # Ignore crashed runs\n",
        "            continue\n",
        "        # Alternatively, it is possible to also obtain the start time with ``run_value.starttime``\n",
        "        endtime = pd.Timestamp(time.strftime('%Y-%m-%d %H:%M:%S',\n",
        "                                             time.localtime(run_value.endtime)))\n",
        "        val_score = metric._optimum - (metric._sign * run_value.cost)\n",
        "        test_score = metric._optimum - (metric._sign * run_value.additional_info['test_loss'])\n",
        "        train_score = metric._optimum - (metric._sign * run_value.additional_info['train_loss'])\n",
        "        performance_list.append({\n",
        "            'Timestamp': endtime,\n",
        "            'single_best_optimization_score': val_score,\n",
        "            'single_best_test_score': test_score,\n",
        "            'single_best_train_score': train_score,\n",
        "        })\n",
        "    return pd.DataFrame(performance_list)"
      ],
      "execution_count": null,
      "outputs": []
    },
    {
      "cell_type": "code",
      "metadata": {
        "colab": {
          "base_uri": "https://localhost:8080/",
          "height": 295
        },
        "id": "Df3nPP97yx9V",
        "outputId": "8fc18e84-76a4-4f2c-9ca9-7743557ee51b"
      },
      "source": [
        "ensemble_performance_frame = pd.DataFrame(model.automl_.ensemble_performance_history)\n",
        "best_values = pd.Series({'ensemble_optimization_score': -np.inf,\n",
        "                         'ensemble_test_score': -np.inf})\n",
        "for idx in ensemble_performance_frame.index:\n",
        "    if (\n",
        "        ensemble_performance_frame.loc[idx, 'ensemble_optimization_score']\n",
        "        > best_values['ensemble_optimization_score']\n",
        "    ):\n",
        "        best_values = ensemble_performance_frame.loc[idx]\n",
        "    ensemble_performance_frame.loc[idx] = best_values\n",
        "\n",
        "individual_performance_frame = get_runhistory_models_performance(model)\n",
        "best_values = pd.Series({'single_best_optimization_score': -np.inf,\n",
        "                         'single_best_test_score': -np.inf,\n",
        "                         'single_best_train_score': -np.inf})\n",
        "for idx in individual_performance_frame.index:\n",
        "    if (\n",
        "        individual_performance_frame.loc[idx, 'single_best_optimization_score']\n",
        "        > best_values['single_best_optimization_score']\n",
        "    ):\n",
        "        best_values = individual_performance_frame.loc[idx]\n",
        "    individual_performance_frame.loc[idx] = best_values\n",
        "\n",
        "pd.merge(\n",
        "    ensemble_performance_frame,\n",
        "    individual_performance_frame,\n",
        "    on=\"Timestamp\", how='outer'\n",
        ").sort_values('Timestamp').fillna(method='ffill').plot(\n",
        "    x='Timestamp',\n",
        "    kind='line',\n",
        "    legend=True,\n",
        "    title='Auto-sklearn accuracy over time',\n",
        "    grid=True,\n",
        ")\n",
        "plt.show()"
      ],
      "execution_count": null,
      "outputs": [
        {
          "output_type": "display_data",
          "data": {
            "image/png": "[encoded data removed]",
            "text/plain": [
              "<Figure size 432x288 with 1 Axes>"
            ]
          },
          "metadata": {
            "tags": [],
            "needs_background": "light"
          }
        }
      ]
    },
    {
      "cell_type": "markdown",
      "metadata": {
        "id": "9AyMFAQI_w15"
      },
      "source": [
        "## Model Explanation\n",
        "\n",
        "Ref: https://automl.github.io/auto-sklearn/master/examples/40_advanced/example_inspect_predictions.html#sphx-glr-examples-40-advanced-example-inspect-predictions-py"
      ]
    },
    {
      "cell_type": "code",
      "metadata": {
        "colab": {
          "base_uri": "https://localhost:8080/",
          "height": 420
        },
        "id": "khFRNJvNAHmt",
        "outputId": "6507f441-f2a7-4c24-f3e5-c38a026a570d"
      },
      "source": [
        "# Compute permutation importance\n",
        "# the permutation importance, which defines the decrease in a model score when a given feature is randomly permuted. So, the higher the score, the more does the model’s predictions depend on this feature.\n",
        "# see https://christophm.github.io/interpretable-ml-book/feature-importance.html\n",
        "r = permutation_importance(model, X_test, y_test,\n",
        "                           n_repeats=10,\n",
        "                           random_state=0)\n",
        "\n",
        "sort_idx = r.importances_mean.argsort()[::-1]\n",
        "plt.boxplot(r.importances[sort_idx].T, labels=[X_test.columns[i] for i in sort_idx])\n",
        "plt.xticks(rotation=90)\n",
        "plt.tight_layout()\n",
        "plt.show()\n",
        "\n",
        "for i in sort_idx[::-1]:\n",
        "    print(f\"{X_test.columns[i]:10s}: {r.importances_mean[i]:.3f} +/- \"\n",
        "          f\"{r.importances_std[i]:.3f}\")"
      ],
      "execution_count": null,
      "outputs": [
        {
          "output_type": "display_data",
          "data": {
            "image/png": "[encoded data removed]",
            "text/plain": [
              "<Figure size 432x288 with 1 Axes>"
            ]
          },
          "metadata": {
            "tags": [],
            "needs_background": "light"
          }
        },
        {
          "output_type": "stream",
          "text": [
            "embarked  : -0.001 +/- 0.006\n",
            "fare      : 0.003 +/- 0.008\n",
            "parch     : 0.004 +/- 0.005\n",
            "sibsp     : 0.006 +/- 0.004\n",
            "age       : 0.036 +/- 0.013\n",
            "pclass    : 0.038 +/- 0.013\n",
            "sex       : 0.166 +/- 0.015\n"
          ],
          "name": "stdout"
        }
      ]
    },
    {
      "cell_type": "markdown",
      "metadata": {
        "id": "Xc-_RCiJ0Aj4"
      },
      "source": [
        "## Experiment: Remove Outliers before AutoML"
      ]
    },
    {
      "cell_type": "code",
      "metadata": {
        "id": "zc1BhRA90njN"
      },
      "source": [
        "# use Z-score to find outliers\n",
        "# z = (x – μ) / σ\n",
        "def outliers_z_score(data, threshold=6):\n",
        "    outliers=[]\n",
        "    for i in data:\n",
        "        z_score = (i - np.mean(data)) / np.std(data)\n",
        "        if np.abs(z_score) > threshold:\n",
        "            outliers.append(i)\n",
        "    return outliers"
      ],
      "execution_count": null,
      "outputs": []
    },
    {
      "cell_type": "code",
      "metadata": {
        "colab": {
          "base_uri": "https://localhost:8080/"
        },
        "id": "XL63t3GP1217",
        "outputId": "c3718fa6-896c-48d1-b764-f5e9245629dd"
      },
      "source": [
        "outliers = X_train[[\"age\", \"fare\", \"parch\", \"sibsp\"]].apply(outliers_z_score, axis=0)\n",
        "outliers"
      ],
      "execution_count": null,
      "outputs": [
        {
          "output_type": "execute_result",
          "data": {
            "text/plain": [
              "age                                  []\n",
              "fare     [512.3292, 512.3292, 512.3292]\n",
              "parch                         [9, 6, 6]\n",
              "sibsp       [8, 8, 8, 8, 8, 8, 8, 8, 8]\n",
              "dtype: object"
            ]
          },
          "metadata": {
            "tags": []
          },
          "execution_count": 31
        }
      ]
    },
    {
      "cell_type": "code",
      "metadata": {
        "colab": {
          "base_uri": "https://localhost:8080/"
        },
        "id": "RDfes72x9Rxs",
        "outputId": "697d2687-052c-45aa-c268-4a7f7635f63b"
      },
      "source": [
        "X_train_wo_outliers = X_train.copy()\n",
        "X_train_wo_outliers[\"survival\"] = y_train\n",
        "for i in outliers.keys():\n",
        "  X_train_wo_outliers = X_train_wo_outliers[X_train_wo_outliers[i].map(lambda x: x not in outliers[i])]\n",
        "  print(X_train_wo_outliers.shape)\n",
        "\n",
        "y_train_wo_outliers = X_train_wo_outliers[\"survival\"]\n",
        "X_train_wo_outliers.drop(\"survival\", axis=1, inplace=True)"
      ],
      "execution_count": null,
      "outputs": [
        {
          "output_type": "stream",
          "text": [
            "(916, 8)\n",
            "(913, 8)\n",
            "(910, 8)\n",
            "(901, 8)\n"
          ],
          "name": "stdout"
        }
      ]
    },
    {
      "cell_type": "code",
      "metadata": {
        "colab": {
          "base_uri": "https://localhost:8080/"
        },
        "id": "cvJFAkEzAJFY",
        "outputId": "bcda59a1-6f01-4b58-9ae1-8a899f4f017a"
      },
      "source": [
        "%%time\n",
        "model_wo_outliers = autosklearn.classification.AutoSklearnClassifier(\n",
        "    metric=autosklearn.metrics.accuracy,\n",
        "    time_left_for_this_task=120,  # in sec\n",
        "    per_run_time_limit=30,  # in sec\n",
        "    memory_limit=3072,\n",
        "    resampling_strategy='holdout',\n",
        "    resampling_strategy_arguments={'train_size': 0.67},\n",
        "    n_jobs=1,\n",
        "    seed=2,\n",
        "    ensemble_size=50,\n",
        "    # delete_tmp_folder_after_terminate=False,\n",
        "    # tmp_folder=\"./autosklearn_tmp\"\n",
        ")\n",
        "# X_test, y_test will be used to save test predictions for all models. This allows to evaluate the performance of Auto-sklearn over time.\n",
        "model_wo_outliers.fit(X_train_wo_outliers, y_train_wo_outliers, X_test, y_test, dataset_name='titanic_example')"
      ],
      "execution_count": null,
      "outputs": [
        {
          "output_type": "stream",
          "text": [
            "CPU times: user 14.2 s, sys: 1.17 s, total: 15.4 s\n",
            "Wall time: 2min\n"
          ],
          "name": "stdout"
        }
      ]
    },
    {
      "cell_type": "code",
      "metadata": {
        "colab": {
          "base_uri": "https://localhost:8080/"
        },
        "id": "QyXsefi5Awqq",
        "outputId": "1ebd525d-c6b2-4356-af6a-ef87b6535f25"
      },
      "source": [
        "s = model_wo_outliers.score(X_test, y_test)\n",
        "print(f\"Test score {s}\")"
      ],
      "execution_count": null,
      "outputs": [
        {
          "output_type": "stream",
          "text": [
            "Test score 0.7913486005089059\n"
          ],
          "name": "stdout"
        }
      ]
    },
    {
      "cell_type": "markdown",
      "metadata": {
        "id": "hHrxdF01Qxe7"
      },
      "source": [
        "## auto-sklearn 2.0\n",
        "\n"
      ]
    },
    {
      "cell_type": "code",
      "metadata": {
        "id": "sC07VTwwQ9ly"
      },
      "source": [
        "# https://automl.github.io/auto-sklearn/master/api.html#autosklearn.experimental.askl2.AutoSklearn2Classifier\n",
        "import autosklearn.experimental.askl2"
      ],
      "execution_count": null,
      "outputs": []
    },
    {
      "cell_type": "code",
      "metadata": {
        "colab": {
          "base_uri": "https://localhost:8080/"
        },
        "id": "Sk4RPZ7YRKIf",
        "outputId": "48b23974-b65d-42e0-9d5c-82b95cb8a116"
      },
      "source": [
        "%%time\n",
        "model_2 = autosklearn.experimental.askl2.AutoSklearn2Classifier(\n",
        "    metric=autosklearn.metrics.accuracy,\n",
        "    time_left_for_this_task=120,  # in sec\n",
        "    per_run_time_limit=30,  # in sec\n",
        "    memory_limit=3072,\n",
        "    n_jobs=1\n",
        ")\n",
        "# X_test, y_test will be used to save test predictions for all models. This allows to evaluate the performance of Auto-sklearn over time.\n",
        "model_2.fit(X_train, y_train, X_test, y_test, dataset_name='titanic_example')"
      ],
      "execution_count": null,
      "outputs": [
        {
          "output_type": "stream",
          "text": [
            "/usr/local/lib/python3.7/dist-packages/smac/intensification/parallel_scheduling.py:155: UserWarning: SuccessiveHalving is intended to be used with more than 1 worker but num_workers=1\n",
            "  num_workers\n"
          ],
          "name": "stderr"
        },
        {
          "output_type": "stream",
          "text": [
            "CPU times: user 5.97 s, sys: 1.15 s, total: 7.13 s\n",
            "Wall time: 2min 1s\n"
          ],
          "name": "stdout"
        }
      ]
    },
    {
      "cell_type": "code",
      "metadata": {
        "colab": {
          "base_uri": "https://localhost:8080/"
        },
        "id": "iPoRAltSRZ8y",
        "outputId": "2194c606-e403-4ea8-bc70-d8cf5ef2459f"
      },
      "source": [
        "y_pred_2 = model_2.predict(X_test)\n",
        "print(\"Accuracy score\", sklearn.metrics.accuracy_score(y_test, y_pred_2))"
      ],
      "execution_count": null,
      "outputs": [
        {
          "output_type": "stream",
          "text": [
            "Accuracy score 0.8040712468193384\n"
          ],
          "name": "stdout"
        }
      ]
    },
    {
      "cell_type": "code",
      "metadata": {
        "id": "5KGguLgHRvs4"
      },
      "source": [
        ""
      ],
      "execution_count": null,
      "outputs": []
    }
  ]
}