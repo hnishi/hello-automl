{
  "nbformat": 4,
  "nbformat_minor": 0,
  "metadata": {
    "kernelspec": {
      "display_name": "Python 3",
      "language": "python",
      "name": "python3"
    },
    "language_info": {
      "codemirror_mode": {
        "name": "ipython",
        "version": 3
      },
      "file_extension": ".py",
      "mimetype": "text/x-python",
      "name": "python",
      "nbconvert_exporter": "python",
      "pygments_lexer": "ipython3",
      "version": "3.8.11"
    },
    "colab": {
      "name": "auto-sklearn-titanic.ipynb",
      "provenance": [],
      "collapsed_sections": [],
      "include_colab_link": true
    }
  },
  "cells": [
    {
      "cell_type": "markdown",
      "metadata": {
        "id": "view-in-github",
        "colab_type": "text"
      },
      "source": [
        "<a href=\"https://colab.research.google.com/github/hnishi/hello-automl/blob/main/auto_sklearn_titanic.ipynb\" target=\"_parent\"><img src=\"https://colab.research.google.com/assets/colab-badge.svg\" alt=\"Open In Colab\"/></a>"
      ]
    },
    {
      "cell_type": "code",
      "metadata": {
        "id": "c38j08cslrd_",
        "colab": {
          "base_uri": "https://localhost:8080/"
        },
        "outputId": "7dac40f6-4710-42f0-807d-c9184fb23d0d"
      },
      "source": [
        "# https://automl.github.io/auto-sklearn/master/installation.html\n",
        "# install all dependencies manually\n",
        "!curl https://raw.githubusercontent.com/automl/auto-sklearn/master/requirements.txt | xargs -n 1 -L 1 pip -q install\n",
        "!pip install -q auto-sklearn"
      ],
      "execution_count": 1,
      "outputs": [
        {
          "output_type": "stream",
          "text": [
            "  % Total    % Received % Xferd  Average Speed   Time    Time     Time  Current\n",
            "                                 Dload  Upload   Total   Spent    Left  Speed\n",
            "100   249  100   249    0     0   1331      0 --:--:-- --:--:-- --:--:--  1331\n",
            "\u001b[K     |████████████████████████████████| 28.5 MB 45 kB/s \n",
            "\u001b[31mERROR: pip's dependency resolver does not currently take into account all the packages that are installed. This behaviour is the source of the following dependency conflicts.\n",
            "albumentations 0.1.12 requires imgaug<0.2.7,>=0.2.5, but you have imgaug 0.2.9 which is incompatible.\u001b[0m\n",
            "\u001b[K     |████████████████████████████████| 22.3 MB 52.6 MB/s \n",
            "\u001b[K     |████████████████████████████████| 722 kB 9.1 MB/s \n",
            "\u001b[K     |████████████████████████████████| 973 kB 38.6 MB/s \n",
            "\u001b[K     |████████████████████████████████| 118 kB 52.3 MB/s \n",
            "\u001b[?25h  Building wheel for liac-arff (setup.py) ... \u001b[?25l\u001b[?25hdone\n",
            "\u001b[K     |████████████████████████████████| 4.2 MB 10.2 MB/s \n",
            "\u001b[?25h  Building wheel for pynisher (setup.py) ... \u001b[?25l\u001b[?25hdone\n",
            "\u001b[K     |████████████████████████████████| 4.0 MB 8.0 MB/s \n",
            "\u001b[K     |████████████████████████████████| 208 kB 8.5 MB/s \n",
            "\u001b[K     |████████████████████████████████| 6.3 MB 5.9 MB/s \n",
            "\u001b[?25h  Building wheel for auto-sklearn (setup.py) ... \u001b[?25l\u001b[?25hdone\n"
          ],
          "name": "stdout"
        }
      ]
    },
    {
      "cell_type": "code",
      "metadata": {
        "id": "wxk7KMj7W63H"
      },
      "source": [
        "# After upgrading scikit-learn version, you have to restart runtime.\n",
        "# Ref: https://stackoverflow.com/questions/57831187/need-to-restart-runtime-before-import-an-installed-package-in-colab\n",
        "\n",
        "# restart rumtime\n",
        "# Ref: https://stackoverflow.com/questions/53154369/google-colab-how-to-restart-runtime-using-python-code-or-command-line-interf\n",
        "import os\n",
        "os.kill(os.getpid(), 9)"
      ],
      "execution_count": null,
      "outputs": []
    },
    {
      "cell_type": "code",
      "metadata": {
        "id": "NPFkWzPSyx9Q"
      },
      "source": [
        "%matplotlib inline\n",
        "\n",
        "import time\n",
        "import matplotlib.pyplot as plt\n",
        "import numpy as np\n",
        "import pandas as pd\n",
        "import sklearn\n",
        "import sklearn.ensemble\n",
        "import sklearn.model_selection\n",
        "import sklearn.datasets\n",
        "import sklearn.metrics\n",
        "from sklearn.preprocessing import LabelEncoder\n",
        "from sklearn.inspection import plot_partial_dependence, permutation_importance\n",
        "\n",
        "from smac.tae import StatusType\n",
        "import autosklearn\n",
        "import autosklearn.classification\n",
        "import autosklearn.metrics"
      ],
      "execution_count": 1,
      "outputs": []
    },
    {
      "cell_type": "code",
      "metadata": {
        "colab": {
          "base_uri": "https://localhost:8080/",
          "height": 35
        },
        "id": "SSV-oQXojyN8",
        "outputId": "e26318ae-6a64-4336-ae01-23f732cfb8b6"
      },
      "source": [
        "autosklearn.__version__"
      ],
      "execution_count": 2,
      "outputs": [
        {
          "output_type": "execute_result",
          "data": {
            "application/vnd.google.colaboratory.intrinsic+json": {
              "type": "string"
            },
            "text/plain": [
              "'0.13.0'"
            ]
          },
          "metadata": {},
          "execution_count": 2
        }
      ]
    },
    {
      "cell_type": "markdown",
      "metadata": {
        "id": "loda_oxuyx9T"
      },
      "source": [
        "## Data Loading and Preprocess\n",
        "\n",
        "Titanic Dataset\n",
        "\n",
        "X\n",
        "\n",
        "- pclass: passenger class (1st, 2nd, 3rd), a proxy for socio-economic class\n",
        "- name: name of passenger\n",
        "- sex: male or female\n",
        "- age: age in years (some infants had fractional values)\n",
        "- sibsp: number of siblings/spouses aboard\n",
        "- parch: number of parents/children aboard\n",
        "- ticket: ticket number\n",
        "- fare: passenger fare\n",
        "- cabin: cabin number\n",
        "- embarked: port of embarkation (C: Cherbourg, Q: Queenstown, S: Southampton)\n",
        "- boat: Lifeboat\n",
        "- body: body identification number\n",
        "- home.dest: home/destination\n",
        "\n",
        "y\n",
        "\n",
        "- survival: survival (0 = No; 1 = Yes)\n",
        "\n"
      ]
    },
    {
      "cell_type": "code",
      "metadata": {
        "id": "GNe5m4HSoyPt"
      },
      "source": [
        "# Using Titanic dataset https://www.openml.org/d/40945.\n",
        "# This example will use the command fetch_openml, which will\n",
        "# download a properly formatted dataframe if you use as_frame=True.\n",
        "X, y = sklearn.datasets.fetch_openml(data_id=40945, return_X_y=True, as_frame=True)"
      ],
      "execution_count": 3,
      "outputs": []
    },
    {
      "cell_type": "code",
      "metadata": {
        "id": "OpfuhhJtjk0s"
      },
      "source": [
        "# remove columns to be consistent with Kaggle's titanic dataset\n",
        "X.drop(['name', 'cabin', 'ticket', 'body', 'home.dest', 'boat'], inplace=True, axis=1)\n",
        "\n",
        "X[\"pclass\"] = X[\"pclass\"].astype(\"int\")\n",
        "X[\"sibsp\"] = X[\"sibsp\"].astype(\"int\")\n",
        "X[\"parch\"] = X[\"parch\"].astype(\"int\")        \n",
        "X[\"age\"] = X[\"age\"].astype(\"float\")        \n",
        "X[\"fare\"] = X[\"fare\"].astype(\"float\")        \n",
        "X[\"embarked\"] = X[\"embarked\"].astype(\"category\")\n",
        "X[\"sex\"] = X[\"sex\"].astype(\"category\")\n",
        "y = y.astype(\"category\")"
      ],
      "execution_count": 4,
      "outputs": []
    },
    {
      "cell_type": "code",
      "metadata": {
        "colab": {
          "base_uri": "https://localhost:8080/"
        },
        "id": "8v6Kf5UCpQ47",
        "outputId": "fe1fe460-78b3-414b-8025-32c59e2904e0"
      },
      "source": [
        "# check missing values\n",
        "for column in X.columns:\n",
        "    print(f\"{column}: {str(sum(X[column].isnull()))} missing values\")"
      ],
      "execution_count": 5,
      "outputs": [
        {
          "output_type": "stream",
          "text": [
            "pclass: 0 missing values\n",
            "sex: 0 missing values\n",
            "age: 263 missing values\n",
            "sibsp: 0 missing values\n",
            "parch: 0 missing values\n",
            "fare: 1 missing values\n",
            "embarked: 2 missing values\n"
          ],
          "name": "stdout"
        }
      ]
    },
    {
      "cell_type": "code",
      "metadata": {
        "colab": {
          "base_uri": "https://localhost:8080/"
        },
        "id": "aerH8XJehbrH",
        "outputId": "3feacc95-d7da-4fb2-f851-48e653f88e86"
      },
      "source": [
        "X.dtypes"
      ],
      "execution_count": 6,
      "outputs": [
        {
          "output_type": "execute_result",
          "data": {
            "text/plain": [
              "pclass         int64\n",
              "sex         category\n",
              "age          float64\n",
              "sibsp          int64\n",
              "parch          int64\n",
              "fare         float64\n",
              "embarked    category\n",
              "dtype: object"
            ]
          },
          "metadata": {},
          "execution_count": 6
        }
      ]
    },
    {
      "cell_type": "code",
      "metadata": {
        "id": "1y8Ve-YHep44"
      },
      "source": [
        "X_train, X_test, y_train, y_test = sklearn.model_selection.train_test_split(\n",
        "    X, y, test_size=0.3, random_state=1\n",
        ")"
      ],
      "execution_count": 7,
      "outputs": []
    },
    {
      "cell_type": "markdown",
      "metadata": {
        "id": "ai1PZFl9RCpT"
      },
      "source": [
        "## Baseline"
      ]
    },
    {
      "cell_type": "code",
      "metadata": {
        "colab": {
          "base_uri": "https://localhost:8080/"
        },
        "id": "MLmPNs8rRFFO",
        "outputId": "364718e2-fee9-43c5-b8b0-1f97143d404f"
      },
      "source": [
        "# Gender model\n",
        "# It will predict that all women survive and all men do not survive.\n",
        "print(\"Accuracy score\", sklearn.metrics.accuracy_score(y_test, X_test[\"sex\"].map(lambda x: '1' if x == \"female\" else '0')))"
      ],
      "execution_count": 8,
      "outputs": [
        {
          "output_type": "stream",
          "text": [
            "Accuracy score 0.7888040712468194\n"
          ],
          "name": "stdout"
        }
      ]
    },
    {
      "cell_type": "markdown",
      "metadata": {
        "id": "g6ogT-7Pyx9T"
      },
      "source": [
        "## Build and Fit a Classifier\n",
        "\n"
      ]
    },
    {
      "cell_type": "code",
      "metadata": {
        "id": "oqD7B3-OQmLD"
      },
      "source": [
        "# the Configuration Space object, from which Auto-Sklearn will sample configurations and build pipelines.\n",
        "# model.get_configuration_space(X_train, y_train)"
      ],
      "execution_count": 9,
      "outputs": []
    },
    {
      "cell_type": "code",
      "metadata": {
        "colab": {
          "base_uri": "https://localhost:8080/"
        },
        "id": "w0bh8QZOgZy7",
        "outputId": "0c18b310-fb97-43e2-80e4-df1c8d3db6ba"
      },
      "source": [
        "%%time\n",
        "model = autosklearn.classification.AutoSklearnClassifier(\n",
        "    metric=autosklearn.metrics.accuracy,\n",
        "    time_left_for_this_task=120,  # in sec\n",
        "    per_run_time_limit=30,  # in sec\n",
        "    memory_limit=3072,  # in MB\n",
        "    resampling_strategy='holdout',\n",
        "    resampling_strategy_arguments={'train_size': 0.67},\n",
        "    n_jobs=1,\n",
        "    seed=2,\n",
        "    ensemble_size=50,\n",
        "    # delete_tmp_folder_after_terminate=False,\n",
        "    # tmp_folder=\"./autosklearn_tmp\"\n",
        ")\n",
        "# X_test, y_test will be used to save test predictions for all models. This allows to evaluate the performance of Auto-sklearn over time.\n",
        "model.fit(X_train, y_train, X_test, y_test, dataset_name='titanic_example')\n",
        "# model.fit(X_train, y_train, dataset_name='titanic_example')"
      ],
      "execution_count": 10,
      "outputs": [
        {
          "output_type": "stream",
          "text": [
            "CPU times: user 10.6 s, sys: 937 ms, total: 11.5 s\n",
            "Wall time: 1min 55s\n"
          ],
          "name": "stdout"
        }
      ]
    },
    {
      "cell_type": "code",
      "metadata": {
        "colab": {
          "base_uri": "https://localhost:8080/"
        },
        "id": "bOztOUUFj5Tu",
        "outputId": "5d123a63-7cb4-490f-acb9-aad686e0fda5"
      },
      "source": [
        "# y_train_pred = model.predict(X_train)\n",
        "# print(\"Accuracy score\", sklearn.metrics.accuracy_score(y_train, y_train_pred))\n",
        "s = model.score(X_train, y_train)\n",
        "print(f\"Train score {s}\")"
      ],
      "execution_count": 11,
      "outputs": [
        {
          "output_type": "stream",
          "text": [
            "Train score 0.9039301310043668\n"
          ],
          "name": "stdout"
        }
      ]
    },
    {
      "cell_type": "code",
      "metadata": {
        "id": "sfZtFBLNUcRA"
      },
      "source": [
        "# save and load model\n",
        "import pickle\n",
        "\n",
        "dump_file = \"model.pickle\"\n",
        "\n",
        "with open(dump_file, 'wb') as f:\n",
        "    pickle.dump(model, f)\n",
        "\n",
        "with open(dump_file, 'rb') as f:\n",
        "    restored_model = pickle.load(f)\n",
        "\n",
        "assert restored_model.score(X_train, y_train) == s"
      ],
      "execution_count": 12,
      "outputs": []
    },
    {
      "cell_type": "code",
      "metadata": {
        "id": "5bj9M0wMC6aa",
        "colab": {
          "base_uri": "https://localhost:8080/"
        },
        "outputId": "fff94a54-0290-473b-c7a7-c55daf426d27"
      },
      "source": [
        "#  the statistics of the training result:\n",
        "print(model.sprint_statistics())"
      ],
      "execution_count": 13,
      "outputs": [
        {
          "output_type": "stream",
          "text": [
            "auto-sklearn results:\n",
            "  Dataset name: titanic_example\n",
            "  Metric: accuracy\n",
            "  Best validation score: 0.825083\n",
            "  Number of target algorithm runs: 23\n",
            "  Number of successful target algorithm runs: 21\n",
            "  Number of crashed target algorithm runs: 0\n",
            "  Number of target algorithms that exceeded the time limit: 2\n",
            "  Number of target algorithms that exceeded the memory limit: 0\n",
            "\n"
          ],
          "name": "stdout"
        }
      ]
    },
    {
      "cell_type": "markdown",
      "metadata": {
        "id": "YupiPGizsyvM"
      },
      "source": [
        "## Predict and Evaluate the Final Ensemble"
      ]
    },
    {
      "cell_type": "code",
      "metadata": {
        "colab": {
          "base_uri": "https://localhost:8080/"
        },
        "id": "Wjh-HpaLhEdk",
        "outputId": "909561d3-523d-4e33-feed-984060d32319"
      },
      "source": [
        "# y_pred = model.predict(X_test)\n",
        "# print(\"Accuracy score\", sklearn.metrics.accuracy_score(y_test, y_pred))\n",
        "s = model.score(X_test, y_test)\n",
        "print(f\"Test score {s}\")"
      ],
      "execution_count": 14,
      "outputs": [
        {
          "output_type": "stream",
          "text": [
            "Test score 0.7964376590330788\n"
          ],
          "name": "stdout"
        }
      ]
    },
    {
      "cell_type": "markdown",
      "metadata": {
        "id": "VNbry25EQKSq"
      },
      "source": [
        "### The Best Single Model"
      ]
    },
    {
      "cell_type": "code",
      "metadata": {
        "colab": {
          "base_uri": "https://localhost:8080/",
          "height": 545
        },
        "id": "BjHKoRgSKrFr",
        "outputId": "790e2f29-d64f-4598-f9ea-be24bca1c068"
      },
      "source": [
        "model.leaderboard(detailed=False, ensemble_only=True, sort_by='cost')"
      ],
      "execution_count": 15,
      "outputs": [
        {
          "output_type": "execute_result",
          "data": {
            "text/html": [
              "<div>\n",
              "<style scoped>\n",
              "    .dataframe tbody tr th:only-of-type {\n",
              "        vertical-align: middle;\n",
              "    }\n",
              "\n",
              "    .dataframe tbody tr th {\n",
              "        vertical-align: top;\n",
              "    }\n",
              "\n",
              "    .dataframe thead th {\n",
              "        text-align: right;\n",
              "    }\n",
              "</style>\n",
              "<table border=\"1\" class=\"dataframe\">\n",
              "  <thead>\n",
              "    <tr style=\"text-align: right;\">\n",
              "      <th></th>\n",
              "      <th>rank</th>\n",
              "      <th>ensemble_weight</th>\n",
              "      <th>type</th>\n",
              "      <th>cost</th>\n",
              "      <th>duration</th>\n",
              "    </tr>\n",
              "    <tr>\n",
              "      <th>model_id</th>\n",
              "      <th></th>\n",
              "      <th></th>\n",
              "      <th></th>\n",
              "      <th></th>\n",
              "      <th></th>\n",
              "    </tr>\n",
              "  </thead>\n",
              "  <tbody>\n",
              "    <tr>\n",
              "      <th>13</th>\n",
              "      <td>1</td>\n",
              "      <td>0.04</td>\n",
              "      <td>random_forest</td>\n",
              "      <td>0.174917</td>\n",
              "      <td>2.401085</td>\n",
              "    </tr>\n",
              "    <tr>\n",
              "      <th>6</th>\n",
              "      <td>2</td>\n",
              "      <td>0.02</td>\n",
              "      <td>extra_trees</td>\n",
              "      <td>0.181518</td>\n",
              "      <td>2.276615</td>\n",
              "    </tr>\n",
              "    <tr>\n",
              "      <th>8</th>\n",
              "      <td>3</td>\n",
              "      <td>0.10</td>\n",
              "      <td>gradient_boosting</td>\n",
              "      <td>0.194719</td>\n",
              "      <td>1.881236</td>\n",
              "    </tr>\n",
              "    <tr>\n",
              "      <th>16</th>\n",
              "      <td>4</td>\n",
              "      <td>0.02</td>\n",
              "      <td>extra_trees</td>\n",
              "      <td>0.194719</td>\n",
              "      <td>2.039208</td>\n",
              "    </tr>\n",
              "    <tr>\n",
              "      <th>17</th>\n",
              "      <td>5</td>\n",
              "      <td>0.34</td>\n",
              "      <td>adaboost</td>\n",
              "      <td>0.194719</td>\n",
              "      <td>2.274589</td>\n",
              "    </tr>\n",
              "    <tr>\n",
              "      <th>2</th>\n",
              "      <td>6</td>\n",
              "      <td>0.06</td>\n",
              "      <td>random_forest</td>\n",
              "      <td>0.204620</td>\n",
              "      <td>2.769130</td>\n",
              "    </tr>\n",
              "    <tr>\n",
              "      <th>4</th>\n",
              "      <td>7</td>\n",
              "      <td>0.02</td>\n",
              "      <td>mlp</td>\n",
              "      <td>0.204620</td>\n",
              "      <td>4.405643</td>\n",
              "    </tr>\n",
              "    <tr>\n",
              "      <th>10</th>\n",
              "      <td>8</td>\n",
              "      <td>0.08</td>\n",
              "      <td>extra_trees</td>\n",
              "      <td>0.204620</td>\n",
              "      <td>2.706357</td>\n",
              "    </tr>\n",
              "    <tr>\n",
              "      <th>20</th>\n",
              "      <td>9</td>\n",
              "      <td>0.04</td>\n",
              "      <td>lda</td>\n",
              "      <td>0.221122</td>\n",
              "      <td>1.076033</td>\n",
              "    </tr>\n",
              "    <tr>\n",
              "      <th>23</th>\n",
              "      <td>10</td>\n",
              "      <td>0.02</td>\n",
              "      <td>gradient_boosting</td>\n",
              "      <td>0.221122</td>\n",
              "      <td>2.610182</td>\n",
              "    </tr>\n",
              "    <tr>\n",
              "      <th>14</th>\n",
              "      <td>11</td>\n",
              "      <td>0.02</td>\n",
              "      <td>mlp</td>\n",
              "      <td>0.231023</td>\n",
              "      <td>1.762391</td>\n",
              "    </tr>\n",
              "    <tr>\n",
              "      <th>21</th>\n",
              "      <td>12</td>\n",
              "      <td>0.16</td>\n",
              "      <td>adaboost</td>\n",
              "      <td>0.244224</td>\n",
              "      <td>2.174810</td>\n",
              "    </tr>\n",
              "    <tr>\n",
              "      <th>11</th>\n",
              "      <td>13</td>\n",
              "      <td>0.02</td>\n",
              "      <td>mlp</td>\n",
              "      <td>0.247525</td>\n",
              "      <td>3.644303</td>\n",
              "    </tr>\n",
              "    <tr>\n",
              "      <th>12</th>\n",
              "      <td>14</td>\n",
              "      <td>0.02</td>\n",
              "      <td>mlp</td>\n",
              "      <td>0.254125</td>\n",
              "      <td>1.931511</td>\n",
              "    </tr>\n",
              "    <tr>\n",
              "      <th>18</th>\n",
              "      <td>15</td>\n",
              "      <td>0.04</td>\n",
              "      <td>qda</td>\n",
              "      <td>0.254125</td>\n",
              "      <td>1.074521</td>\n",
              "    </tr>\n",
              "  </tbody>\n",
              "</table>\n",
              "</div>"
            ],
            "text/plain": [
              "          rank  ensemble_weight               type      cost  duration\n",
              "model_id                                                              \n",
              "13           1             0.04      random_forest  0.174917  2.401085\n",
              "6            2             0.02        extra_trees  0.181518  2.276615\n",
              "8            3             0.10  gradient_boosting  0.194719  1.881236\n",
              "16           4             0.02        extra_trees  0.194719  2.039208\n",
              "17           5             0.34           adaboost  0.194719  2.274589\n",
              "2            6             0.06      random_forest  0.204620  2.769130\n",
              "4            7             0.02                mlp  0.204620  4.405643\n",
              "10           8             0.08        extra_trees  0.204620  2.706357\n",
              "20           9             0.04                lda  0.221122  1.076033\n",
              "23          10             0.02  gradient_boosting  0.221122  2.610182\n",
              "14          11             0.02                mlp  0.231023  1.762391\n",
              "21          12             0.16           adaboost  0.244224  2.174810\n",
              "11          13             0.02                mlp  0.247525  3.644303\n",
              "12          14             0.02                mlp  0.254125  1.931511\n",
              "18          15             0.04                qda  0.254125  1.074521"
            ]
          },
          "metadata": {},
          "execution_count": 15
        }
      ]
    },
    {
      "cell_type": "code",
      "metadata": {
        "id": "At_rRkhRrWRE",
        "colab": {
          "base_uri": "https://localhost:8080/"
        },
        "outputId": "585202aa-8a9f-49ba-c567-14b279d662ec"
      },
      "source": [
        "# a list of the final ensemble found by auto-sklearn.\n",
        "list_models = model.get_models_with_weights()\n",
        "list_models"
      ],
      "execution_count": 16,
      "outputs": [
        {
          "output_type": "execute_result",
          "data": {
            "text/plain": [
              "[(0.34,\n",
              "  SimpleClassificationPipeline({'balancing:strategy': 'none', 'classifier:__choice__': 'adaboost', 'data_preprocessing:categorical_transformer:categorical_encoding:__choice__': 'one_hot_encoding', 'data_preprocessing:categorical_transformer:category_coalescence:__choice__': 'minority_coalescer', 'data_preprocessing:numerical_transformer:imputation:strategy': 'mean', 'data_preprocessing:numerical_transformer:rescaling:__choice__': 'robust_scaler', 'feature_preprocessor:__choice__': 'extra_trees_preproc_for_classification', 'classifier:adaboost:algorithm': 'SAMME.R', 'classifier:adaboost:learning_rate': 0.046269426995092074, 'classifier:adaboost:max_depth': 3, 'classifier:adaboost:n_estimators': 406, 'data_preprocessing:categorical_transformer:category_coalescence:minority_coalescer:minimum_fraction': 0.002102242030216922, 'data_preprocessing:numerical_transformer:rescaling:robust_scaler:q_max': 0.7697572103377026, 'data_preprocessing:numerical_transformer:rescaling:robust_scaler:q_min': 0.280953821785477, 'feature_preprocessor:extra_trees_preproc_for_classification:bootstrap': 'False', 'feature_preprocessor:extra_trees_preproc_for_classification:criterion': 'entropy', 'feature_preprocessor:extra_trees_preproc_for_classification:max_depth': 'None', 'feature_preprocessor:extra_trees_preproc_for_classification:max_features': 0.40839846168190147, 'feature_preprocessor:extra_trees_preproc_for_classification:max_leaf_nodes': 'None', 'feature_preprocessor:extra_trees_preproc_for_classification:min_impurity_decrease': 0.0, 'feature_preprocessor:extra_trees_preproc_for_classification:min_samples_leaf': 4, 'feature_preprocessor:extra_trees_preproc_for_classification:min_samples_split': 7, 'feature_preprocessor:extra_trees_preproc_for_classification:min_weight_fraction_leaf': 0.0, 'feature_preprocessor:extra_trees_preproc_for_classification:n_estimators': 100},\n",
              "  dataset_properties={\n",
              "    'task': 1,\n",
              "    'sparse': False,\n",
              "    'multilabel': False,\n",
              "    'multiclass': False,\n",
              "    'target_type': 'classification',\n",
              "    'signed': False})),\n",
              " (0.16,\n",
              "  SimpleClassificationPipeline({'balancing:strategy': 'weighting', 'classifier:__choice__': 'adaboost', 'data_preprocessing:categorical_transformer:categorical_encoding:__choice__': 'one_hot_encoding', 'data_preprocessing:categorical_transformer:category_coalescence:__choice__': 'minority_coalescer', 'data_preprocessing:numerical_transformer:imputation:strategy': 'most_frequent', 'data_preprocessing:numerical_transformer:rescaling:__choice__': 'minmax', 'feature_preprocessor:__choice__': 'feature_agglomeration', 'classifier:adaboost:algorithm': 'SAMME', 'classifier:adaboost:learning_rate': 0.03734246906377268, 'classifier:adaboost:max_depth': 2, 'classifier:adaboost:n_estimators': 416, 'data_preprocessing:categorical_transformer:category_coalescence:minority_coalescer:minimum_fraction': 0.01340273457911319, 'feature_preprocessor:feature_agglomeration:affinity': 'euclidean', 'feature_preprocessor:feature_agglomeration:linkage': 'ward', 'feature_preprocessor:feature_agglomeration:n_clusters': 22, 'feature_preprocessor:feature_agglomeration:pooling_func': 'mean'},\n",
              "  dataset_properties={\n",
              "    'task': 1,\n",
              "    'sparse': False,\n",
              "    'multilabel': False,\n",
              "    'multiclass': False,\n",
              "    'target_type': 'classification',\n",
              "    'signed': False})),\n",
              " (0.1,\n",
              "  SimpleClassificationPipeline({'balancing:strategy': 'weighting', 'classifier:__choice__': 'gradient_boosting', 'data_preprocessing:categorical_transformer:categorical_encoding:__choice__': 'one_hot_encoding', 'data_preprocessing:categorical_transformer:category_coalescence:__choice__': 'minority_coalescer', 'data_preprocessing:numerical_transformer:imputation:strategy': 'most_frequent', 'data_preprocessing:numerical_transformer:rescaling:__choice__': 'none', 'feature_preprocessor:__choice__': 'select_percentile_classification', 'classifier:gradient_boosting:early_stop': 'train', 'classifier:gradient_boosting:l2_regularization': 3.387912939529945e-10, 'classifier:gradient_boosting:learning_rate': 0.30755227194768237, 'classifier:gradient_boosting:loss': 'auto', 'classifier:gradient_boosting:max_bins': 255, 'classifier:gradient_boosting:max_depth': 'None', 'classifier:gradient_boosting:max_leaf_nodes': 60, 'classifier:gradient_boosting:min_samples_leaf': 39, 'classifier:gradient_boosting:scoring': 'loss', 'classifier:gradient_boosting:tol': 1e-07, 'data_preprocessing:categorical_transformer:category_coalescence:minority_coalescer:minimum_fraction': 0.010000000000000004, 'feature_preprocessor:select_percentile_classification:percentile': 93.39844669585806, 'feature_preprocessor:select_percentile_classification:score_func': 'f_classif', 'classifier:gradient_boosting:n_iter_no_change': 18},\n",
              "  dataset_properties={\n",
              "    'task': 1,\n",
              "    'sparse': False,\n",
              "    'multilabel': False,\n",
              "    'multiclass': False,\n",
              "    'target_type': 'classification',\n",
              "    'signed': False})),\n",
              " (0.08,\n",
              "  SimpleClassificationPipeline({'balancing:strategy': 'weighting', 'classifier:__choice__': 'extra_trees', 'data_preprocessing:categorical_transformer:categorical_encoding:__choice__': 'no_encoding', 'data_preprocessing:categorical_transformer:category_coalescence:__choice__': 'minority_coalescer', 'data_preprocessing:numerical_transformer:imputation:strategy': 'median', 'data_preprocessing:numerical_transformer:rescaling:__choice__': 'robust_scaler', 'feature_preprocessor:__choice__': 'polynomial', 'classifier:extra_trees:bootstrap': 'False', 'classifier:extra_trees:criterion': 'entropy', 'classifier:extra_trees:max_depth': 'None', 'classifier:extra_trees:max_features': 0.993803313878608, 'classifier:extra_trees:max_leaf_nodes': 'None', 'classifier:extra_trees:min_impurity_decrease': 0.0, 'classifier:extra_trees:min_samples_leaf': 2, 'classifier:extra_trees:min_samples_split': 20, 'classifier:extra_trees:min_weight_fraction_leaf': 0.0, 'data_preprocessing:categorical_transformer:category_coalescence:minority_coalescer:minimum_fraction': 0.41826215858914706, 'data_preprocessing:numerical_transformer:rescaling:robust_scaler:q_max': 0.7305615609807856, 'data_preprocessing:numerical_transformer:rescaling:robust_scaler:q_min': 0.25595970768123566, 'feature_preprocessor:polynomial:degree': 2, 'feature_preprocessor:polynomial:include_bias': 'True', 'feature_preprocessor:polynomial:interaction_only': 'True'},\n",
              "  dataset_properties={\n",
              "    'task': 1,\n",
              "    'sparse': False,\n",
              "    'multilabel': False,\n",
              "    'multiclass': False,\n",
              "    'target_type': 'classification',\n",
              "    'signed': False})),\n",
              " (0.06,\n",
              "  SimpleClassificationPipeline({'balancing:strategy': 'none', 'classifier:__choice__': 'random_forest', 'data_preprocessing:categorical_transformer:categorical_encoding:__choice__': 'one_hot_encoding', 'data_preprocessing:categorical_transformer:category_coalescence:__choice__': 'minority_coalescer', 'data_preprocessing:numerical_transformer:imputation:strategy': 'mean', 'data_preprocessing:numerical_transformer:rescaling:__choice__': 'standardize', 'feature_preprocessor:__choice__': 'no_preprocessing', 'classifier:random_forest:bootstrap': 'True', 'classifier:random_forest:criterion': 'gini', 'classifier:random_forest:max_depth': 'None', 'classifier:random_forest:max_features': 0.5, 'classifier:random_forest:max_leaf_nodes': 'None', 'classifier:random_forest:min_impurity_decrease': 0.0, 'classifier:random_forest:min_samples_leaf': 1, 'classifier:random_forest:min_samples_split': 2, 'classifier:random_forest:min_weight_fraction_leaf': 0.0, 'data_preprocessing:categorical_transformer:category_coalescence:minority_coalescer:minimum_fraction': 0.01},\n",
              "  dataset_properties={\n",
              "    'task': 1,\n",
              "    'sparse': False,\n",
              "    'multilabel': False,\n",
              "    'multiclass': False,\n",
              "    'target_type': 'classification',\n",
              "    'signed': False})),\n",
              " (0.04,\n",
              "  SimpleClassificationPipeline({'balancing:strategy': 'none', 'classifier:__choice__': 'random_forest', 'data_preprocessing:categorical_transformer:categorical_encoding:__choice__': 'one_hot_encoding', 'data_preprocessing:categorical_transformer:category_coalescence:__choice__': 'minority_coalescer', 'data_preprocessing:numerical_transformer:imputation:strategy': 'most_frequent', 'data_preprocessing:numerical_transformer:rescaling:__choice__': 'standardize', 'feature_preprocessor:__choice__': 'no_preprocessing', 'classifier:random_forest:bootstrap': 'True', 'classifier:random_forest:criterion': 'entropy', 'classifier:random_forest:max_depth': 'None', 'classifier:random_forest:max_features': 0.926283631486858, 'classifier:random_forest:max_leaf_nodes': 'None', 'classifier:random_forest:min_impurity_decrease': 0.0, 'classifier:random_forest:min_samples_leaf': 7, 'classifier:random_forest:min_samples_split': 2, 'classifier:random_forest:min_weight_fraction_leaf': 0.0, 'data_preprocessing:categorical_transformer:category_coalescence:minority_coalescer:minimum_fraction': 0.16265262021972576},\n",
              "  dataset_properties={\n",
              "    'task': 1,\n",
              "    'sparse': False,\n",
              "    'multilabel': False,\n",
              "    'multiclass': False,\n",
              "    'target_type': 'classification',\n",
              "    'signed': False})),\n",
              " (0.04,\n",
              "  SimpleClassificationPipeline({'balancing:strategy': 'weighting', 'classifier:__choice__': 'qda', 'data_preprocessing:categorical_transformer:categorical_encoding:__choice__': 'no_encoding', 'data_preprocessing:categorical_transformer:category_coalescence:__choice__': 'no_coalescense', 'data_preprocessing:numerical_transformer:imputation:strategy': 'most_frequent', 'data_preprocessing:numerical_transformer:rescaling:__choice__': 'standardize', 'feature_preprocessor:__choice__': 'no_preprocessing', 'classifier:qda:reg_param': 0.585497512341966},\n",
              "  dataset_properties={\n",
              "    'task': 1,\n",
              "    'sparse': False,\n",
              "    'multilabel': False,\n",
              "    'multiclass': False,\n",
              "    'target_type': 'classification',\n",
              "    'signed': False})),\n",
              " (0.04,\n",
              "  SimpleClassificationPipeline({'balancing:strategy': 'weighting', 'classifier:__choice__': 'lda', 'data_preprocessing:categorical_transformer:categorical_encoding:__choice__': 'no_encoding', 'data_preprocessing:categorical_transformer:category_coalescence:__choice__': 'no_coalescense', 'data_preprocessing:numerical_transformer:imputation:strategy': 'median', 'data_preprocessing:numerical_transformer:rescaling:__choice__': 'quantile_transformer', 'feature_preprocessor:__choice__': 'liblinear_svc_preprocessor', 'classifier:lda:shrinkage': 'manual', 'classifier:lda:tol': 0.0007215763283486354, 'data_preprocessing:numerical_transformer:rescaling:quantile_transformer:n_quantiles': 851, 'data_preprocessing:numerical_transformer:rescaling:quantile_transformer:output_distribution': 'uniform', 'feature_preprocessor:liblinear_svc_preprocessor:C': 2.160480406584884, 'feature_preprocessor:liblinear_svc_preprocessor:dual': 'False', 'feature_preprocessor:liblinear_svc_preprocessor:fit_intercept': 'True', 'feature_preprocessor:liblinear_svc_preprocessor:intercept_scaling': 1, 'feature_preprocessor:liblinear_svc_preprocessor:loss': 'squared_hinge', 'feature_preprocessor:liblinear_svc_preprocessor:multi_class': 'ovr', 'feature_preprocessor:liblinear_svc_preprocessor:penalty': 'l1', 'feature_preprocessor:liblinear_svc_preprocessor:tol': 0.010943990816220809, 'classifier:lda:shrinkage_factor': 0.3306135150299744},\n",
              "  dataset_properties={\n",
              "    'task': 1,\n",
              "    'sparse': False,\n",
              "    'multilabel': False,\n",
              "    'multiclass': False,\n",
              "    'target_type': 'classification',\n",
              "    'signed': False})),\n",
              " (0.02,\n",
              "  SimpleClassificationPipeline({'balancing:strategy': 'weighting', 'classifier:__choice__': 'mlp', 'data_preprocessing:categorical_transformer:categorical_encoding:__choice__': 'one_hot_encoding', 'data_preprocessing:categorical_transformer:category_coalescence:__choice__': 'minority_coalescer', 'data_preprocessing:numerical_transformer:imputation:strategy': 'median', 'data_preprocessing:numerical_transformer:rescaling:__choice__': 'none', 'feature_preprocessor:__choice__': 'feature_agglomeration', 'classifier:mlp:activation': 'relu', 'classifier:mlp:alpha': 0.0005005168300134541, 'classifier:mlp:batch_size': 'auto', 'classifier:mlp:beta_1': 0.9, 'classifier:mlp:beta_2': 0.999, 'classifier:mlp:early_stopping': 'train', 'classifier:mlp:epsilon': 1e-08, 'classifier:mlp:hidden_layer_depth': 2, 'classifier:mlp:learning_rate_init': 0.0012631168744483667, 'classifier:mlp:n_iter_no_change': 32, 'classifier:mlp:num_nodes_per_layer': 262, 'classifier:mlp:shuffle': 'True', 'classifier:mlp:solver': 'adam', 'classifier:mlp:tol': 0.0001, 'data_preprocessing:categorical_transformer:category_coalescence:minority_coalescer:minimum_fraction': 0.010159946014740783, 'feature_preprocessor:feature_agglomeration:affinity': 'euclidean', 'feature_preprocessor:feature_agglomeration:linkage': 'ward', 'feature_preprocessor:feature_agglomeration:n_clusters': 398, 'feature_preprocessor:feature_agglomeration:pooling_func': 'max'},\n",
              "  dataset_properties={\n",
              "    'task': 1,\n",
              "    'sparse': False,\n",
              "    'multilabel': False,\n",
              "    'multiclass': False,\n",
              "    'target_type': 'classification',\n",
              "    'signed': False})),\n",
              " (0.02,\n",
              "  SimpleClassificationPipeline({'balancing:strategy': 'weighting', 'classifier:__choice__': 'mlp', 'data_preprocessing:categorical_transformer:categorical_encoding:__choice__': 'no_encoding', 'data_preprocessing:categorical_transformer:category_coalescence:__choice__': 'no_coalescense', 'data_preprocessing:numerical_transformer:imputation:strategy': 'most_frequent', 'data_preprocessing:numerical_transformer:rescaling:__choice__': 'standardize', 'feature_preprocessor:__choice__': 'fast_ica', 'classifier:mlp:activation': 'relu', 'classifier:mlp:alpha': 0.0017940473175767063, 'classifier:mlp:batch_size': 'auto', 'classifier:mlp:beta_1': 0.9, 'classifier:mlp:beta_2': 0.999, 'classifier:mlp:early_stopping': 'valid', 'classifier:mlp:epsilon': 1e-08, 'classifier:mlp:hidden_layer_depth': 2, 'classifier:mlp:learning_rate_init': 0.0004684917334431039, 'classifier:mlp:n_iter_no_change': 32, 'classifier:mlp:num_nodes_per_layer': 101, 'classifier:mlp:shuffle': 'True', 'classifier:mlp:solver': 'adam', 'classifier:mlp:tol': 0.0001, 'feature_preprocessor:fast_ica:algorithm': 'parallel', 'feature_preprocessor:fast_ica:fun': 'exp', 'feature_preprocessor:fast_ica:whiten': 'False', 'classifier:mlp:validation_fraction': 0.1},\n",
              "  dataset_properties={\n",
              "    'task': 1,\n",
              "    'sparse': False,\n",
              "    'multilabel': False,\n",
              "    'multiclass': False,\n",
              "    'target_type': 'classification',\n",
              "    'signed': False})),\n",
              " (0.02,\n",
              "  SimpleClassificationPipeline({'balancing:strategy': 'none', 'classifier:__choice__': 'mlp', 'data_preprocessing:categorical_transformer:categorical_encoding:__choice__': 'no_encoding', 'data_preprocessing:categorical_transformer:category_coalescence:__choice__': 'no_coalescense', 'data_preprocessing:numerical_transformer:imputation:strategy': 'median', 'data_preprocessing:numerical_transformer:rescaling:__choice__': 'standardize', 'feature_preprocessor:__choice__': 'feature_agglomeration', 'classifier:mlp:activation': 'tanh', 'classifier:mlp:alpha': 0.0001363185819149026, 'classifier:mlp:batch_size': 'auto', 'classifier:mlp:beta_1': 0.9, 'classifier:mlp:beta_2': 0.999, 'classifier:mlp:early_stopping': 'valid', 'classifier:mlp:epsilon': 1e-08, 'classifier:mlp:hidden_layer_depth': 3, 'classifier:mlp:learning_rate_init': 0.00018009776276177523, 'classifier:mlp:n_iter_no_change': 32, 'classifier:mlp:num_nodes_per_layer': 115, 'classifier:mlp:shuffle': 'True', 'classifier:mlp:solver': 'adam', 'classifier:mlp:tol': 0.0001, 'feature_preprocessor:feature_agglomeration:affinity': 'euclidean', 'feature_preprocessor:feature_agglomeration:linkage': 'ward', 'feature_preprocessor:feature_agglomeration:n_clusters': 182, 'feature_preprocessor:feature_agglomeration:pooling_func': 'mean', 'classifier:mlp:validation_fraction': 0.1},\n",
              "  dataset_properties={\n",
              "    'task': 1,\n",
              "    'sparse': False,\n",
              "    'multilabel': False,\n",
              "    'multiclass': False,\n",
              "    'target_type': 'classification',\n",
              "    'signed': False})),\n",
              " (0.02,\n",
              "  SimpleClassificationPipeline({'balancing:strategy': 'none', 'classifier:__choice__': 'extra_trees', 'data_preprocessing:categorical_transformer:categorical_encoding:__choice__': 'one_hot_encoding', 'data_preprocessing:categorical_transformer:category_coalescence:__choice__': 'no_coalescense', 'data_preprocessing:numerical_transformer:imputation:strategy': 'median', 'data_preprocessing:numerical_transformer:rescaling:__choice__': 'none', 'feature_preprocessor:__choice__': 'select_rates_classification', 'classifier:extra_trees:bootstrap': 'False', 'classifier:extra_trees:criterion': 'entropy', 'classifier:extra_trees:max_depth': 'None', 'classifier:extra_trees:max_features': 0.562561668029056, 'classifier:extra_trees:max_leaf_nodes': 'None', 'classifier:extra_trees:min_impurity_decrease': 0.0, 'classifier:extra_trees:min_samples_leaf': 2, 'classifier:extra_trees:min_samples_split': 15, 'classifier:extra_trees:min_weight_fraction_leaf': 0.0, 'feature_preprocessor:select_rates_classification:alpha': 0.32106218519214325, 'feature_preprocessor:select_rates_classification:score_func': 'chi2', 'feature_preprocessor:select_rates_classification:mode': 'fwe'},\n",
              "  dataset_properties={\n",
              "    'task': 1,\n",
              "    'sparse': False,\n",
              "    'multilabel': False,\n",
              "    'multiclass': False,\n",
              "    'target_type': 'classification',\n",
              "    'signed': False})),\n",
              " (0.02,\n",
              "  SimpleClassificationPipeline({'balancing:strategy': 'weighting', 'classifier:__choice__': 'gradient_boosting', 'data_preprocessing:categorical_transformer:categorical_encoding:__choice__': 'one_hot_encoding', 'data_preprocessing:categorical_transformer:category_coalescence:__choice__': 'minority_coalescer', 'data_preprocessing:numerical_transformer:imputation:strategy': 'most_frequent', 'data_preprocessing:numerical_transformer:rescaling:__choice__': 'quantile_transformer', 'feature_preprocessor:__choice__': 'feature_agglomeration', 'classifier:gradient_boosting:early_stop': 'train', 'classifier:gradient_boosting:l2_regularization': 1.9280388598217333e-10, 'classifier:gradient_boosting:learning_rate': 0.24233932723531437, 'classifier:gradient_boosting:loss': 'auto', 'classifier:gradient_boosting:max_bins': 255, 'classifier:gradient_boosting:max_depth': 'None', 'classifier:gradient_boosting:max_leaf_nodes': 35, 'classifier:gradient_boosting:min_samples_leaf': 17, 'classifier:gradient_boosting:scoring': 'loss', 'classifier:gradient_boosting:tol': 1e-07, 'data_preprocessing:categorical_transformer:category_coalescence:minority_coalescer:minimum_fraction': 0.008116008139623675, 'data_preprocessing:numerical_transformer:rescaling:quantile_transformer:n_quantiles': 1560, 'data_preprocessing:numerical_transformer:rescaling:quantile_transformer:output_distribution': 'normal', 'feature_preprocessor:feature_agglomeration:affinity': 'cosine', 'feature_preprocessor:feature_agglomeration:linkage': 'average', 'feature_preprocessor:feature_agglomeration:n_clusters': 19, 'feature_preprocessor:feature_agglomeration:pooling_func': 'max', 'classifier:gradient_boosting:n_iter_no_change': 1},\n",
              "  dataset_properties={\n",
              "    'task': 1,\n",
              "    'sparse': False,\n",
              "    'multilabel': False,\n",
              "    'multiclass': False,\n",
              "    'target_type': 'classification',\n",
              "    'signed': False})),\n",
              " (0.02,\n",
              "  SimpleClassificationPipeline({'balancing:strategy': 'weighting', 'classifier:__choice__': 'mlp', 'data_preprocessing:categorical_transformer:categorical_encoding:__choice__': 'one_hot_encoding', 'data_preprocessing:categorical_transformer:category_coalescence:__choice__': 'no_coalescense', 'data_preprocessing:numerical_transformer:imputation:strategy': 'most_frequent', 'data_preprocessing:numerical_transformer:rescaling:__choice__': 'standardize', 'feature_preprocessor:__choice__': 'feature_agglomeration', 'classifier:mlp:activation': 'tanh', 'classifier:mlp:alpha': 0.00021148999718383549, 'classifier:mlp:batch_size': 'auto', 'classifier:mlp:beta_1': 0.9, 'classifier:mlp:beta_2': 0.999, 'classifier:mlp:early_stopping': 'train', 'classifier:mlp:epsilon': 1e-08, 'classifier:mlp:hidden_layer_depth': 3, 'classifier:mlp:learning_rate_init': 0.0007452270241186694, 'classifier:mlp:n_iter_no_change': 32, 'classifier:mlp:num_nodes_per_layer': 113, 'classifier:mlp:shuffle': 'True', 'classifier:mlp:solver': 'adam', 'classifier:mlp:tol': 0.0001, 'feature_preprocessor:feature_agglomeration:affinity': 'euclidean', 'feature_preprocessor:feature_agglomeration:linkage': 'complete', 'feature_preprocessor:feature_agglomeration:n_clusters': 247, 'feature_preprocessor:feature_agglomeration:pooling_func': 'max'},\n",
              "  dataset_properties={\n",
              "    'task': 1,\n",
              "    'sparse': False,\n",
              "    'multilabel': False,\n",
              "    'multiclass': False,\n",
              "    'target_type': 'classification',\n",
              "    'signed': False})),\n",
              " (0.02,\n",
              "  SimpleClassificationPipeline({'balancing:strategy': 'none', 'classifier:__choice__': 'extra_trees', 'data_preprocessing:categorical_transformer:categorical_encoding:__choice__': 'one_hot_encoding', 'data_preprocessing:categorical_transformer:category_coalescence:__choice__': 'no_coalescense', 'data_preprocessing:numerical_transformer:imputation:strategy': 'median', 'data_preprocessing:numerical_transformer:rescaling:__choice__': 'none', 'feature_preprocessor:__choice__': 'polynomial', 'classifier:extra_trees:bootstrap': 'False', 'classifier:extra_trees:criterion': 'gini', 'classifier:extra_trees:max_depth': 'None', 'classifier:extra_trees:max_features': 0.5707983257382487, 'classifier:extra_trees:max_leaf_nodes': 'None', 'classifier:extra_trees:min_impurity_decrease': 0.0, 'classifier:extra_trees:min_samples_leaf': 3, 'classifier:extra_trees:min_samples_split': 11, 'classifier:extra_trees:min_weight_fraction_leaf': 0.0, 'feature_preprocessor:polynomial:degree': 2, 'feature_preprocessor:polynomial:include_bias': 'False', 'feature_preprocessor:polynomial:interaction_only': 'False'},\n",
              "  dataset_properties={\n",
              "    'task': 1,\n",
              "    'sparse': False,\n",
              "    'multilabel': False,\n",
              "    'multiclass': False,\n",
              "    'target_type': 'classification',\n",
              "    'signed': False}))]"
            ]
          },
          "metadata": {},
          "execution_count": 16
        }
      ]
    },
    {
      "cell_type": "code",
      "metadata": {
        "colab": {
          "base_uri": "https://localhost:8080/"
        },
        "id": "XxRsphfkIuOD",
        "outputId": "4e354ed5-6919-4c54-8b77-a819254d552e"
      },
      "source": [
        "model_rf = list_models[6][1]\n",
        "model_rf.score(X_test, y_test.astype(\"int\"))"
      ],
      "execution_count": 17,
      "outputs": [
        {
          "output_type": "execute_result",
          "data": {
            "text/plain": [
              "0.7175572519083969"
            ]
          },
          "metadata": {},
          "execution_count": 17
        }
      ]
    },
    {
      "cell_type": "code",
      "metadata": {
        "colab": {
          "base_uri": "https://localhost:8080/"
        },
        "id": "Wf3bk6a1QzPQ",
        "outputId": "cca53f76-dab1-454a-8987-6175d9243aa1"
      },
      "source": [
        "model_rf"
      ],
      "execution_count": 18,
      "outputs": [
        {
          "output_type": "execute_result",
          "data": {
            "text/plain": [
              "SimpleClassificationPipeline({'balancing:strategy': 'weighting', 'classifier:__choice__': 'qda', 'data_preprocessing:categorical_transformer:categorical_encoding:__choice__': 'no_encoding', 'data_preprocessing:categorical_transformer:category_coalescence:__choice__': 'no_coalescense', 'data_preprocessing:numerical_transformer:imputation:strategy': 'most_frequent', 'data_preprocessing:numerical_transformer:rescaling:__choice__': 'standardize', 'feature_preprocessor:__choice__': 'no_preprocessing', 'classifier:qda:reg_param': 0.585497512341966},\n",
              "dataset_properties={\n",
              "  'task': 1,\n",
              "  'sparse': False,\n",
              "  'multilabel': False,\n",
              "  'multiclass': False,\n",
              "  'target_type': 'classification',\n",
              "  'signed': False})"
            ]
          },
          "metadata": {},
          "execution_count": 18
        }
      ]
    },
    {
      "cell_type": "markdown",
      "metadata": {
        "id": "dEWvwzu5eOru"
      },
      "source": [
        "### Evaluate the performance of an ensemble model and a single model"
      ]
    },
    {
      "cell_type": "code",
      "metadata": {
        "colab": {
          "base_uri": "https://localhost:8080/"
        },
        "id": "00htSJyCeIig",
        "outputId": "90b71a49-cc91-49a1-b20d-f6e7b4c9f8a3"
      },
      "source": [
        "%%time\n",
        "for i in range(10):\n",
        "  y_pred = model.predict(X_test)"
      ],
      "execution_count": 19,
      "outputs": [
        {
          "output_type": "stream",
          "text": [
            "CPU times: user 10.2 s, sys: 3.43 s, total: 13.6 s\n",
            "Wall time: 9.09 s\n"
          ],
          "name": "stdout"
        }
      ]
    },
    {
      "cell_type": "code",
      "metadata": {
        "colab": {
          "base_uri": "https://localhost:8080/"
        },
        "id": "PA2XvlDwekQg",
        "outputId": "528f7b5f-538c-471b-ff96-16f4b8cde591"
      },
      "source": [
        "%%time\n",
        "for i in range(10):\n",
        "  y_pred_rf = model_rf.predict(X_test)"
      ],
      "execution_count": 20,
      "outputs": [
        {
          "output_type": "stream",
          "text": [
            "CPU times: user 99 ms, sys: 1.58 ms, total: 101 ms\n",
            "Wall time: 98.6 ms\n"
          ],
          "name": "stdout"
        }
      ]
    },
    {
      "cell_type": "markdown",
      "metadata": {
        "id": "iNw5toKqyx9V"
      },
      "source": [
        "### Plot the ensemble performance\n",
        "\n",
        "Ref: https://automl.github.io/auto-sklearn/master/examples/40_advanced/example_pandas_train_test.html#sphx-glr-examples-40-advanced-example-pandas-train-test-py"
      ]
    },
    {
      "cell_type": "code",
      "metadata": {
        "id": "dTmRuSTSyx9S"
      },
      "source": [
        "def get_runhistory_models_performance(automl):\n",
        "    metric = automl.automl_._metric\n",
        "    data = automl.automl_.runhistory_.data\n",
        "    performance_list = []\n",
        "    for run_key, run_value in data.items():\n",
        "        if run_value.status != StatusType.SUCCESS:\n",
        "            # Ignore crashed runs\n",
        "            continue\n",
        "        # Alternatively, it is possible to also obtain the start time with ``run_value.starttime``\n",
        "        endtime = pd.Timestamp(time.strftime('%Y-%m-%d %H:%M:%S',\n",
        "                                             time.localtime(run_value.endtime)))\n",
        "        val_score = metric._optimum - (metric._sign * run_value.cost)\n",
        "        test_score = metric._optimum - (metric._sign * run_value.additional_info['test_loss'])\n",
        "        train_score = metric._optimum - (metric._sign * run_value.additional_info['train_loss'])\n",
        "        performance_list.append({\n",
        "            'Timestamp': endtime,\n",
        "            'single_best_optimization_score': val_score,\n",
        "            'single_best_test_score': test_score,\n",
        "            'single_best_train_score': train_score,\n",
        "        })\n",
        "    return pd.DataFrame(performance_list)"
      ],
      "execution_count": 21,
      "outputs": []
    },
    {
      "cell_type": "code",
      "metadata": {
        "colab": {
          "base_uri": "https://localhost:8080/",
          "height": 295
        },
        "id": "Df3nPP97yx9V",
        "outputId": "03aba0a2-eb51-4fa3-f267-b3b89a0a6cb6"
      },
      "source": [
        "ensemble_performance_frame = pd.DataFrame(model.automl_.ensemble_performance_history)\n",
        "best_values = pd.Series({'ensemble_optimization_score': -np.inf,\n",
        "                         'ensemble_test_score': -np.inf})\n",
        "for idx in ensemble_performance_frame.index:\n",
        "    if (\n",
        "        ensemble_performance_frame.loc[idx, 'ensemble_optimization_score']\n",
        "        > best_values['ensemble_optimization_score']\n",
        "    ):\n",
        "        best_values = ensemble_performance_frame.loc[idx]\n",
        "    ensemble_performance_frame.loc[idx] = best_values\n",
        "\n",
        "individual_performance_frame = get_runhistory_models_performance(model)\n",
        "best_values = pd.Series({'single_best_optimization_score': -np.inf,\n",
        "                         'single_best_test_score': -np.inf,\n",
        "                         'single_best_train_score': -np.inf})\n",
        "for idx in individual_performance_frame.index:\n",
        "    if (\n",
        "        individual_performance_frame.loc[idx, 'single_best_optimization_score']\n",
        "        > best_values['single_best_optimization_score']\n",
        "    ):\n",
        "        best_values = individual_performance_frame.loc[idx]\n",
        "    individual_performance_frame.loc[idx] = best_values\n",
        "\n",
        "pd.merge(\n",
        "    ensemble_performance_frame,\n",
        "    individual_performance_frame,\n",
        "    on=\"Timestamp\", how='outer'\n",
        ").sort_values('Timestamp').fillna(method='ffill').plot(\n",
        "    x='Timestamp',\n",
        "    kind='line',\n",
        "    legend=True,\n",
        "    title='Auto-sklearn accuracy over time',\n",
        "    grid=True,\n",
        ")\n",
        "plt.show()"
      ],
      "execution_count": 22,
      "outputs": [
        {
          "output_type": "display_data",
          "data": {
            "image/png": "[encoded data removed]",
            "text/plain": [
              "<Figure size 432x288 with 1 Axes>"
            ]
          },
          "metadata": {
            "needs_background": "light"
          }
        }
      ]
    },
    {
      "cell_type": "markdown",
      "metadata": {
        "id": "9AyMFAQI_w15"
      },
      "source": [
        "## Model Explanation\n",
        "\n",
        "Ref: https://automl.github.io/auto-sklearn/master/examples/40_advanced/example_inspect_predictions.html#sphx-glr-examples-40-advanced-example-inspect-predictions-py"
      ]
    },
    {
      "cell_type": "code",
      "metadata": {
        "colab": {
          "base_uri": "https://localhost:8080/",
          "height": 416
        },
        "id": "khFRNJvNAHmt",
        "outputId": "0086715e-c9b5-4fc5-d327-7284d08c3c36"
      },
      "source": [
        "# Compute permutation importance\n",
        "# the permutation importance, which defines the decrease in a model score when a given feature is randomly permuted. So, the higher the score, the more does the model’s predictions depend on this feature.\n",
        "# see https://christophm.github.io/interpretable-ml-book/feature-importance.html\n",
        "r = permutation_importance(model, X_test, y_test,\n",
        "                           n_repeats=10,\n",
        "                           random_state=0)\n",
        "\n",
        "sort_idx = r.importances_mean.argsort()[::-1]\n",
        "plt.boxplot(r.importances[sort_idx].T, labels=[X_test.columns[i] for i in sort_idx])\n",
        "plt.xticks(rotation=90)\n",
        "plt.tight_layout()\n",
        "plt.show()\n",
        "\n",
        "for i in sort_idx[::-1]:\n",
        "    print(f\"{X_test.columns[i]:10s}: {r.importances_mean[i]:.3f} +/- \"\n",
        "          f\"{r.importances_std[i]:.3f}\")"
      ],
      "execution_count": 23,
      "outputs": [
        {
          "output_type": "display_data",
          "data": {
            "image/png": "[encoded data removed]",
            "text/plain": [
              "<Figure size 432x288 with 1 Axes>"
            ]
          },
          "metadata": {
            "needs_background": "light"
          }
        },
        {
          "output_type": "stream",
          "text": [
            "fare      : -0.004 +/- 0.009\n",
            "sibsp     : -0.001 +/- 0.003\n",
            "embarked  : -0.000 +/- 0.005\n",
            "parch     : 0.008 +/- 0.006\n",
            "pclass    : 0.026 +/- 0.010\n",
            "age       : 0.035 +/- 0.010\n",
            "sex       : 0.181 +/- 0.016\n"
          ],
          "name": "stdout"
        }
      ]
    },
    {
      "cell_type": "markdown",
      "metadata": {
        "id": "Xc-_RCiJ0Aj4"
      },
      "source": [
        "## Experiment: Remove Outliers before AutoML"
      ]
    },
    {
      "cell_type": "code",
      "metadata": {
        "id": "zc1BhRA90njN"
      },
      "source": [
        "# use Z-score to find outliers\n",
        "# z = (x – μ) / σ\n",
        "def outliers_z_score(data, threshold=6):\n",
        "    outliers=[]\n",
        "    for i in data:\n",
        "        z_score = (i - np.mean(data)) / np.std(data)\n",
        "        if np.abs(z_score) > threshold:\n",
        "            outliers.append(i)\n",
        "    return outliers"
      ],
      "execution_count": 24,
      "outputs": []
    },
    {
      "cell_type": "code",
      "metadata": {
        "colab": {
          "base_uri": "https://localhost:8080/"
        },
        "id": "XL63t3GP1217",
        "outputId": "dc9ecf18-d878-4560-a26b-d724702b9b83"
      },
      "source": [
        "outliers = X_train[[\"age\", \"fare\", \"parch\", \"sibsp\"]].apply(outliers_z_score, axis=0)\n",
        "outliers"
      ],
      "execution_count": 25,
      "outputs": [
        {
          "output_type": "execute_result",
          "data": {
            "text/plain": [
              "age                                  []\n",
              "fare     [512.3292, 512.3292, 512.3292]\n",
              "parch                         [9, 6, 6]\n",
              "sibsp       [8, 8, 8, 8, 8, 8, 8, 8, 8]\n",
              "dtype: object"
            ]
          },
          "metadata": {},
          "execution_count": 25
        }
      ]
    },
    {
      "cell_type": "code",
      "metadata": {
        "colab": {
          "base_uri": "https://localhost:8080/"
        },
        "id": "RDfes72x9Rxs",
        "outputId": "78c54163-7f28-4e62-e431-c58814b73c28"
      },
      "source": [
        "X_train_wo_outliers = X_train.copy()\n",
        "X_train_wo_outliers[\"survival\"] = y_train\n",
        "for i in outliers.keys():\n",
        "  X_train_wo_outliers = X_train_wo_outliers[X_train_wo_outliers[i].map(lambda x: x not in outliers[i])]\n",
        "  print(X_train_wo_outliers.shape)\n",
        "\n",
        "y_train_wo_outliers = X_train_wo_outliers[\"survival\"]\n",
        "X_train_wo_outliers.drop(\"survival\", axis=1, inplace=True)"
      ],
      "execution_count": 26,
      "outputs": [
        {
          "output_type": "stream",
          "text": [
            "(916, 8)\n",
            "(913, 8)\n",
            "(910, 8)\n",
            "(901, 8)\n"
          ],
          "name": "stdout"
        }
      ]
    },
    {
      "cell_type": "code",
      "metadata": {
        "colab": {
          "base_uri": "https://localhost:8080/"
        },
        "id": "cvJFAkEzAJFY",
        "outputId": "06839e07-710f-4400-f424-9df622316538"
      },
      "source": [
        "%%time\n",
        "model_wo_outliers = autosklearn.classification.AutoSklearnClassifier(\n",
        "    metric=autosklearn.metrics.accuracy,\n",
        "    time_left_for_this_task=120,  # in sec\n",
        "    per_run_time_limit=30,  # in sec\n",
        "    memory_limit=3072,\n",
        "    resampling_strategy='holdout',\n",
        "    resampling_strategy_arguments={'train_size': 0.67},\n",
        "    n_jobs=1,\n",
        "    seed=2,\n",
        "    ensemble_size=50,\n",
        "    # delete_tmp_folder_after_terminate=False,\n",
        "    # tmp_folder=\"./autosklearn_tmp\"\n",
        ")\n",
        "# X_test, y_test will be used to save test predictions for all models. This allows to evaluate the performance of Auto-sklearn over time.\n",
        "model_wo_outliers.fit(X_train_wo_outliers, y_train_wo_outliers, X_test, y_test, dataset_name='titanic_example')"
      ],
      "execution_count": 27,
      "outputs": [
        {
          "output_type": "stream",
          "text": [
            "CPU times: user 15.5 s, sys: 1.42 s, total: 16.9 s\n",
            "Wall time: 2min 1s\n"
          ],
          "name": "stdout"
        }
      ]
    },
    {
      "cell_type": "code",
      "metadata": {
        "colab": {
          "base_uri": "https://localhost:8080/"
        },
        "id": "QyXsefi5Awqq",
        "outputId": "7a16f684-1e31-43f2-f78b-1306c402d74a"
      },
      "source": [
        "s = model_wo_outliers.score(X_test, y_test)\n",
        "print(f\"Test score {s}\")"
      ],
      "execution_count": 28,
      "outputs": [
        {
          "output_type": "stream",
          "text": [
            "Test score 0.7913486005089059\n"
          ],
          "name": "stdout"
        }
      ]
    },
    {
      "cell_type": "markdown",
      "metadata": {
        "id": "hHrxdF01Qxe7"
      },
      "source": [
        "## auto-sklearn 2.0\n",
        "\n"
      ]
    },
    {
      "cell_type": "code",
      "metadata": {
        "id": "sC07VTwwQ9ly"
      },
      "source": [
        "# https://automl.github.io/auto-sklearn/master/api.html#autosklearn.experimental.askl2.AutoSklearn2Classifier\n",
        "import autosklearn.experimental.askl2"
      ],
      "execution_count": 29,
      "outputs": []
    },
    {
      "cell_type": "code",
      "metadata": {
        "colab": {
          "base_uri": "https://localhost:8080/"
        },
        "id": "Sk4RPZ7YRKIf",
        "outputId": "02ff3c54-481c-4d42-d4d2-ab2da46a8225"
      },
      "source": [
        "%%time\n",
        "model_2 = autosklearn.experimental.askl2.AutoSklearn2Classifier(\n",
        "    metric=autosklearn.metrics.accuracy,\n",
        "    time_left_for_this_task=120,  # in sec\n",
        "    per_run_time_limit=30,  # in sec\n",
        "    memory_limit=3072,\n",
        "    n_jobs=1\n",
        ")\n",
        "# X_test, y_test will be used to save test predictions for all models. This allows to evaluate the performance of Auto-sklearn over time.\n",
        "model_2.fit(X_train, y_train, X_test, y_test, dataset_name='titanic_example')"
      ],
      "execution_count": 30,
      "outputs": [
        {
          "output_type": "stream",
          "text": [
            "/usr/local/lib/python3.7/dist-packages/smac/intensification/parallel_scheduling.py:155: UserWarning: SuccessiveHalving is intended to be used with more than 1 worker but num_workers=1\n",
            "  num_workers\n"
          ],
          "name": "stderr"
        },
        {
          "output_type": "stream",
          "text": [
            "CPU times: user 7.7 s, sys: 1.51 s, total: 9.21 s\n",
            "Wall time: 2min 1s\n"
          ],
          "name": "stdout"
        }
      ]
    },
    {
      "cell_type": "code",
      "metadata": {
        "colab": {
          "base_uri": "https://localhost:8080/"
        },
        "id": "iPoRAltSRZ8y",
        "outputId": "f9412a77-ca38-4c28-e22f-60db8ac97cab"
      },
      "source": [
        "y_pred_2 = model_2.predict(X_test)\n",
        "print(\"Accuracy score\", sklearn.metrics.accuracy_score(y_test, y_pred_2))"
      ],
      "execution_count": 31,
      "outputs": [
        {
          "output_type": "stream",
          "text": [
            "Accuracy score 0.8015267175572519\n"
          ],
          "name": "stdout"
        }
      ]
    },
    {
      "cell_type": "code",
      "metadata": {
        "id": "5KGguLgHRvs4"
      },
      "source": [
        ""
      ],
      "execution_count": 31,
      "outputs": []
    }
  ]
}